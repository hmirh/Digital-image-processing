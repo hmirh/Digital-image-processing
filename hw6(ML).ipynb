{
 "cells": [
  {
   "cell_type": "code",
   "execution_count": 4,
   "id": "c43debfe",
   "metadata": {},
   "outputs": [],
   "source": [
    "import pandas as pd\n",
    "import numpy as np\n",
    "from sklearn.datasets import fetch_openml\n",
    "from sklearn.model_selection import train_test_split\n",
    "from sklearn.cluster import KMeans\n",
    "import matplotlib.pyplot as plt\n",
    "from scipy.cluster.hierarchy import linkage\n",
    "from sklearn.cluster import AgglomerativeClustering\n",
    "from scipy.cluster.hierarchy import dendrogram\n",
    "from scipy.cluster.hierarchy import fcluster\n",
    "from sklearn.metrics import silhouette_score, silhouette_samples\n",
    "from sklearn.preprocessing import normalize\n",
    "from sklearn import metrics\n",
    "import time"
   ]
  },
  {
   "cell_type": "markdown",
   "id": "4ad7a144",
   "metadata": {},
   "source": [
    "### Read IRIS data from website"
   ]
  },
  {
   "cell_type": "code",
   "execution_count": 5,
   "id": "60abfba6",
   "metadata": {},
   "outputs": [],
   "source": [
    "url = \"https://www.cs.nmsu.edu/~hcao/teaching/cs487519/data/iris.data\"\n",
    "data = pd.read_csv(url, header=None)\n",
    "x_iris = data.iloc[:, 0:-1]\n",
    "y_iris = data.iloc[:,-1]\n",
    "y_iris.replace(['Iris-setosa', 'Iris-versicolor', 'Iris-virginica'], [0, 1, 2], inplace=True)\n",
    "x_iris = normalize(x_iris)"
   ]
  },
  {
   "cell_type": "code",
   "execution_count": 6,
   "id": "a892dda7",
   "metadata": {},
   "outputs": [
    {
     "name": "stdout",
     "output_type": "stream",
     "text": [
      "(150, 5)\n",
      "[0 1 2]\n",
      "(1, 50)\n",
      "(1, 50)\n",
      "(1, 50)\n"
     ]
    }
   ],
   "source": [
    "print(np.shape(data))\n",
    "print(np.unique(y_iris))\n",
    "print(np.shape(np.where(y_iris == 0)))\n",
    "print(np.shape(np.where(y_iris == 1)))\n",
    "print(np.shape(np.where(y_iris == 2)))"
   ]
  },
  {
   "cell_type": "markdown",
   "id": "feabf2e9",
   "metadata": {},
   "source": [
    "### Define the elbow method"
   ]
  },
  {
   "cell_type": "code",
   "execution_count": 7,
   "id": "d3d90009",
   "metadata": {},
   "outputs": [],
   "source": [
    "def elbow(data, max_cluster_number):\n",
    "    distortions = []\n",
    "    for i in range(1, max_cluster_number):\n",
    "        kmean_i = KMeans(n_clusters=i, init='k-means++', n_init=10, max_iter=300, random_state=0)\n",
    "        kmean_i.fit(data)\n",
    "        distortions.append(kmean_i.inertia_)\n",
    "    plt.figure(figsize=(15, 6))\n",
    "    plt.plot(range(1, max_cluster_number), distortions, marker='o')\n",
    "    plt.xlabel('Value of k')\n",
    "    plt.ylabel('Distortion')\n",
    "    plt.title(\"The Elbow method for selection of optimal k\")\n",
    "    plt.show()"
   ]
  },
  {
   "cell_type": "markdown",
   "id": "a55f4fca",
   "metadata": {},
   "source": [
    "### Calculate the number of clusters for IRIS data from Elbow method"
   ]
  },
  {
   "cell_type": "code",
   "execution_count": 8,
   "id": "ec7f2641",
   "metadata": {
    "scrolled": false
   },
   "outputs": [
    {
     "name": "stderr",
     "output_type": "stream",
     "text": [
      "C:\\Users\\henga\\anaconda3\\lib\\site-packages\\sklearn\\cluster\\_kmeans.py:881: UserWarning: KMeans is known to have a memory leak on Windows with MKL, when there are less chunks than available threads. You can avoid it by setting the environment variable OMP_NUM_THREADS=1.\n",
      "  warnings.warn(\n"
     ]
    },
    {
     "data": {
      "image/png": "[encoded data removed]",
      "text/plain": [
       "<Figure size 1080x432 with 1 Axes>"
      ]
     },
     "metadata": {
      "needs_background": "light"
     },
     "output_type": "display_data"
    }
   ],
   "source": [
    "elbow(x_iris, 10)"
   ]
  },
  {
   "cell_type": "markdown",
   "id": "7983d942",
   "metadata": {},
   "source": [
    "### Read MNIST data"
   ]
  },
  {
   "cell_type": "code",
   "execution_count": 9,
   "id": "fbf1c28f",
   "metadata": {},
   "outputs": [],
   "source": [
    "x, y = fetch_openml('mnist_784', version=1, return_X_y=True, as_frame=False)"
   ]
  },
  {
   "cell_type": "markdown",
   "id": "3bc0f62e",
   "metadata": {},
   "source": [
    "### Get a subset of MNIST data"
   ]
  },
  {
   "cell_type": "code",
   "execution_count": 10,
   "id": "0b57dbb4",
   "metadata": {},
   "outputs": [],
   "source": [
    "X, x_mnist, Y, y_mnist = train_test_split(x, y, stratify=y, test_size=0.1)\n",
    "x_mnist = normalize(x_mnist)"
   ]
  },
  {
   "cell_type": "code",
   "execution_count": 11,
   "id": "3c642b6d",
   "metadata": {},
   "outputs": [
    {
     "name": "stdout",
     "output_type": "stream",
     "text": [
      "(70000, 784)\n",
      "['0' '1' '2' '3' '4' '5' '6' '7' '8' '9']\n",
      "(7000, 784)\n",
      "['0' '1' '2' '3' '4' '5' '6' '7' '8' '9']\n",
      "(1, 690)\n",
      "(1, 788)\n",
      "(1, 699)\n",
      "(1, 714)\n",
      "(1, 682)\n",
      "(1, 631)\n",
      "(1, 688)\n",
      "(1, 729)\n",
      "(1, 683)\n",
      "(1, 696)\n"
     ]
    }
   ],
   "source": [
    "print(np.shape(x))\n",
    "print(np.unique(y))\n",
    "print(np.shape(x_mnist))\n",
    "print(np.unique(y_mnist))\n",
    "print(np.shape(np.where(y_mnist == '0')))\n",
    "print(np.shape(np.where(y_mnist == '1')))\n",
    "print(np.shape(np.where(y_mnist == '2')))\n",
    "print(np.shape(np.where(y_mnist == '3')))\n",
    "print(np.shape(np.where(y_mnist == '4')))\n",
    "print(np.shape(np.where(y_mnist == '5')))\n",
    "print(np.shape(np.where(y_mnist == '6')))\n",
    "print(np.shape(np.where(y_mnist == '7')))\n",
    "print(np.shape(np.where(y_mnist == '8')))\n",
    "print(np.shape(np.where(y_mnist == '9')))"
   ]
  },
  {
   "cell_type": "markdown",
   "id": "f410ec94",
   "metadata": {},
   "source": [
    "### Calculate the number of clusters for MNIST data from Elbow method"
   ]
  },
  {
   "cell_type": "code",
   "execution_count": null,
   "id": "b2c853ea",
   "metadata": {},
   "outputs": [],
   "source": [
    "elbow(x_mnist, 20)"
   ]
  },
  {
   "cell_type": "code",
   "execution_count": null,
   "id": "c0253289",
   "metadata": {},
   "outputs": [],
   "source": [
    "sil = []\n",
    "for n_cluster in range(2, 16):\n",
    "    kmeans = KMeans(n_clusters=n_cluster, init='k-means++', n_init=10, max_iter=100, random_state=0).fit(x_mnist)\n",
    "    label = kmeans.labels_\n",
    "    sil_coeff = silhouette_score(x_mnist, label, metric='euclidean')\n",
    "    sil.append(sil_coeff)\n",
    "    print(\"For n_clusters={}, The Silhouette Coefficient is {}\".format(n_cluster, sil_coeff))\n",
    "plt.plot(range(2, 16), sil, marker='o')"
   ]
  },
  {
   "cell_type": "markdown",
   "id": "e420a600",
   "metadata": {},
   "source": [
    "### Applying different clustering methods on IRIS data"
   ]
  },
  {
   "cell_type": "markdown",
   "id": "ef983423",
   "metadata": {},
   "source": [
    "#### K-mean algorithm"
   ]
  },
  {
   "cell_type": "code",
   "execution_count": null,
   "id": "c5ebbd30",
   "metadata": {},
   "outputs": [],
   "source": [
    "start_time = time.time()\n",
    "kmean = KMeans(n_clusters=3, init='k-means++', n_init =10, max_iter=300, tol=1e-04, random_state=0) \n",
    "y_kmean = kmean.fit_predict(x_iris)\n",
    "print(\"Running time:  %s seconds \" % (time.time() - start_time))"
   ]
  },
  {
   "cell_type": "code",
   "execution_count": null,
   "id": "2b439d57",
   "metadata": {
    "scrolled": true
   },
   "outputs": [],
   "source": [
    "cluster_centers = [x_iris[kmean.labels_ == i].mean(axis=0) for i in range(3)]\n",
    "clusterwise_sse = [0, 0, 0]\n",
    "\n",
    "for point, label in zip(x_iris, kmean.labels_):\n",
    "    clusterwise_sse[label] += np.square(point - cluster_centers[label]).sum()\n",
    "    \n",
    "print(clusterwise_sse)"
   ]
  },
  {
   "cell_type": "code",
   "execution_count": null,
   "id": "3c4ac534",
   "metadata": {},
   "outputs": [],
   "source": [
    "sample_silhouette = silhouette_samples(x_iris, y_kmean)\n",
    "silhouette = [0, 0, 0]\n",
    "for i in range(3):\n",
    "    silhouette_i = sample_silhouette[y_kmean == i]\n",
    "    silhouette_i = silhouette_i.sum()/(np.shape(silhouette_i))\n",
    "    silhouette[i] = silhouette_i\n",
    "print(silhouette)"
   ]
  },
  {
   "cell_type": "code",
   "execution_count": null,
   "id": "7a8cc420",
   "metadata": {},
   "outputs": [],
   "source": [
    "silhouette_avg = silhouette_score(x_iris, y_kmean)\n",
    "print(silhouette_avg)"
   ]
  },
  {
   "cell_type": "code",
   "execution_count": null,
   "id": "ae1b8842",
   "metadata": {},
   "outputs": [],
   "source": [
    "metrics.rand_score(y_iris, y_kmean)"
   ]
  },
  {
   "cell_type": "markdown",
   "id": "35232159",
   "metadata": {},
   "source": [
    "#### Hierarchical approach offered by SciPy library"
   ]
  },
  {
   "cell_type": "code",
   "execution_count": null,
   "id": "80ef280a",
   "metadata": {},
   "outputs": [],
   "source": [
    "start_time = time.time()\n",
    "cluster1 = linkage(x_iris, method='ward', metric='euclidean')\n",
    "clusters_iris = fcluster(cluster1, 3, criterion='maxclust')\n",
    "print(\"Running time:  %s seconds \" % (time.time() - start_time))"
   ]
  },
  {
   "cell_type": "code",
   "execution_count": null,
   "id": "024e71fe",
   "metadata": {},
   "outputs": [],
   "source": [
    "cluster_centers = [x_iris[clusters_iris == i+1].mean(axis=0) for i in range(3)]\n",
    "clusterwise_sse = [0, 0, 0]\n",
    "\n",
    "for point, label in zip(x_iris, clusters_iris):\n",
    "    clusterwise_sse[label-1] += np.square(point - cluster_centers[label-1]).sum()\n",
    "    \n",
    "print(clusterwise_sse)"
   ]
  },
  {
   "cell_type": "code",
   "execution_count": null,
   "id": "c7d1b7ec",
   "metadata": {},
   "outputs": [],
   "source": [
    "sample_silhouette = silhouette_samples(x_iris, clusters_iris)\n",
    "silhouette = [0, 0, 0]\n",
    "for i in range(3):\n",
    "    silhouette_i = sample_silhouette[clusters_iris == i+1]\n",
    "    silhouette_i = silhouette_i.sum()/(np.shape(silhouette_i))\n",
    "    silhouette[i-1] = silhouette_i\n",
    "print(silhouette)"
   ]
  },
  {
   "cell_type": "code",
   "execution_count": null,
   "id": "91d7ec33",
   "metadata": {},
   "outputs": [],
   "source": [
    "silhouette_avg = silhouette_score(x_iris, clusters_iris)\n",
    "print(silhouette_avg)"
   ]
  },
  {
   "cell_type": "code",
   "execution_count": null,
   "id": "7e964918",
   "metadata": {},
   "outputs": [],
   "source": [
    "metrics.rand_score(y_iris, clusters_iris)"
   ]
  },
  {
   "cell_type": "code",
   "execution_count": null,
   "id": "33ea7df7",
   "metadata": {},
   "outputs": [],
   "source": [
    "plt.figure(figsize=(15, 6))\n",
    "d1 = dendrogram(cluster1) \n",
    "plt.tight_layout()\n",
    "plt.ylabel('Euclidean distance') \n",
    "plt.show()"
   ]
  },
  {
   "cell_type": "markdown",
   "id": "43d0bcf4",
   "metadata": {},
   "source": [
    "#### Hierarchical approach offered by Scikit-learn library"
   ]
  },
  {
   "cell_type": "code",
   "execution_count": null,
   "id": "3a6204c3",
   "metadata": {},
   "outputs": [],
   "source": [
    "start_time = time.time()\n",
    "hierarchical1 = AgglomerativeClustering(n_clusters=3, affinity='euclidean', linkage='complete')\n",
    "y_hierarchical1 = hierarchical1.fit_predict(x_iris)\n",
    "print(\"Running time:  %s seconds \" % (time.time() - start_time))"
   ]
  },
  {
   "cell_type": "code",
   "execution_count": null,
   "id": "acfe86ab",
   "metadata": {},
   "outputs": [],
   "source": [
    "cluster_centers = [x_iris[y_hierarchical1 == i].mean(axis=0) for i in range(3)]\n",
    "clusterwise_sse = [0, 0, 0]\n",
    "\n",
    "for point, label in zip(x_iris, y_hierarchical1):\n",
    "    clusterwise_sse[label] += np.square(point - cluster_centers[label]).sum()\n",
    "    \n",
    "print(clusterwise_sse)"
   ]
  },
  {
   "cell_type": "code",
   "execution_count": null,
   "id": "f2989d72",
   "metadata": {},
   "outputs": [],
   "source": [
    "sample_silhouette = silhouette_samples(x_iris, y_hierarchical1)\n",
    "silhouette = [0, 0, 0]\n",
    "for i in range(3):\n",
    "    silhouette_i = sample_silhouette[y_hierarchical1 == i]\n",
    "    silhouette_i = silhouette_i.sum()/(np.shape(silhouette_i))\n",
    "    silhouette[i] = silhouette_i\n",
    "print(silhouette)"
   ]
  },
  {
   "cell_type": "code",
   "execution_count": null,
   "id": "2db54b62",
   "metadata": {
    "scrolled": true
   },
   "outputs": [],
   "source": [
    "silhouette_avg = silhouette_score(x_iris, y_hierarchical1)\n",
    "print(silhouette_avg)"
   ]
  },
  {
   "cell_type": "code",
   "execution_count": null,
   "id": "aa463261",
   "metadata": {},
   "outputs": [],
   "source": [
    "metrics.rand_score(y_iris, y_hierarchical1)"
   ]
  },
  {
   "cell_type": "markdown",
   "id": "0513e1a7",
   "metadata": {},
   "source": [
    "### Applying different clustering methods on MNIST data"
   ]
  },
  {
   "cell_type": "markdown",
   "id": "52febf16",
   "metadata": {},
   "source": [
    "#### K-mean algorithm"
   ]
  },
  {
   "cell_type": "code",
   "execution_count": null,
   "id": "3822cd55",
   "metadata": {},
   "outputs": [],
   "source": [
    "start_time = time.time()\n",
    "kmean2 = KMeans(n_clusters=10, init='k-means++', n_init =10, max_iter=300, tol=1e-04, random_state=0) \n",
    "y_kmean2 = kmean2.fit_predict(x_mnist)\n",
    "print(\"Running time:  %s seconds \" % (time.time() - start_time))"
   ]
  },
  {
   "cell_type": "code",
   "execution_count": null,
   "id": "44143a67",
   "metadata": {},
   "outputs": [],
   "source": [
    "cluster_centers = [x_mnist[kmean2.labels_ == i].mean(axis=0) for i in range(10)]\n",
    "clusterwise_sse = [0, 0, 0, 0, 0, 0, 0, 0, 0, 0]\n",
    "\n",
    "for point, label in zip(x_mnist, kmean2.labels_):\n",
    "    clusterwise_sse[label] += np.square(point - cluster_centers[label]).sum()\n",
    "    \n",
    "print(clusterwise_sse)\n",
    "print(np.sum(clusterwise_sse))"
   ]
  },
  {
   "cell_type": "code",
   "execution_count": null,
   "id": "228adb22",
   "metadata": {},
   "outputs": [],
   "source": [
    "sample_silhouette = silhouette_samples(x_mnist, y_kmean2)\n",
    "silhouette = [0, 0, 0, 0, 0, 0, 0, 0, 0, 0]\n",
    "for i in range(10):\n",
    "    silhouette_i = sample_silhouette[y_kmean2 == i]\n",
    "    silhouette_i = silhouette_i.sum()/(np.shape(silhouette_i))\n",
    "    silhouette[i] = silhouette_i\n",
    "print(silhouette)"
   ]
  },
  {
   "cell_type": "code",
   "execution_count": null,
   "id": "e453a200",
   "metadata": {},
   "outputs": [],
   "source": [
    "silhouette_avg = silhouette_score(x_mnist, y_kmean2)\n",
    "print(silhouette_avg)"
   ]
  },
  {
   "cell_type": "code",
   "execution_count": null,
   "id": "a8d2757d",
   "metadata": {},
   "outputs": [],
   "source": [
    "metrics.rand_score(y_mnist, y_kmean2)"
   ]
  },
  {
   "cell_type": "markdown",
   "id": "995cd511",
   "metadata": {},
   "source": [
    "#### Hierarchical approach offered by SciPy library"
   ]
  },
  {
   "cell_type": "code",
   "execution_count": null,
   "id": "6e35800a",
   "metadata": {},
   "outputs": [],
   "source": [
    "start_time = time.time()\n",
    "cluster2 = linkage(x_mnist, method='ward', metric='euclidean')\n",
    "clusters_mnist = fcluster(cluster2, 10, criterion='maxclust')\n",
    "print(\"Running time:  %s seconds \" % (time.time() - start_time))"
   ]
  },
  {
   "cell_type": "code",
   "execution_count": null,
   "id": "761ed70c",
   "metadata": {},
   "outputs": [],
   "source": [
    "cluster_centers = [x_mnist[clusters_mnist == i+1].mean(axis=0) for i in range(10)]\n",
    "clusterwise_sse = [0, 0, 0, 0, 0, 0, 0, 0, 0, 0]\n",
    "\n",
    "for point, label in zip(x_mnist, clusters_mnist):\n",
    "    clusterwise_sse[label-1] += np.square(point - cluster_centers[label-1]).sum()\n",
    "    \n",
    "print(clusterwise_sse)\n",
    "print(np.sum(clusterwise_sse))"
   ]
  },
  {
   "cell_type": "code",
   "execution_count": null,
   "id": "2c3a86a8",
   "metadata": {},
   "outputs": [],
   "source": [
    "sample_silhouette = silhouette_samples(x_mnist, clusters_mnist)\n",
    "silhouette = [0, 0, 0, 0, 0, 0, 0, 0, 0, 0]\n",
    "for i in range(10):\n",
    "    silhouette_i = sample_silhouette[clusters_mnist == i+1]\n",
    "    silhouette_i = silhouette_i.sum()/(np.shape(silhouette_i))\n",
    "    silhouette[i-1] = silhouette_i\n",
    "print(silhouette)"
   ]
  },
  {
   "cell_type": "code",
   "execution_count": null,
   "id": "1d463311",
   "metadata": {},
   "outputs": [],
   "source": [
    "silhouette_avg = silhouette_score(x_mnist, clusters_mnist)\n",
    "print(silhouette_avg)"
   ]
  },
  {
   "cell_type": "code",
   "execution_count": null,
   "id": "4f754a71",
   "metadata": {},
   "outputs": [],
   "source": [
    "metrics.rand_score(y_mnist, clusters_mnist)"
   ]
  },
  {
   "cell_type": "code",
   "execution_count": null,
   "id": "2eb50f3a",
   "metadata": {},
   "outputs": [],
   "source": [
    "plt.figure(figsize=(15, 6))\n",
    "d2 = dendrogram(cluster2) \n",
    "plt.tight_layout()\n",
    "plt.ylabel('Euclidean distance') \n",
    "plt.show()"
   ]
  },
  {
   "cell_type": "markdown",
   "id": "83e8aa17",
   "metadata": {},
   "source": [
    "#### Hierarchical approach offered by Scikit-learn library"
   ]
  },
  {
   "cell_type": "code",
   "execution_count": null,
   "id": "72f16619",
   "metadata": {},
   "outputs": [],
   "source": [
    "start_time = time.time()\n",
    "hierarchical2 = AgglomerativeClustering(n_clusters=10, affinity='euclidean', linkage='ward')\n",
    "y_hierarchical2 = hierarchical2.fit_predict(x_mnist)\n",
    "print(\"Running time:  %s seconds \" % (time.time() - start_time))"
   ]
  },
  {
   "cell_type": "code",
   "execution_count": null,
   "id": "30806bf9",
   "metadata": {},
   "outputs": [],
   "source": [
    "cluster_centers = [x_mnist[y_hierarchical2 == i].mean(axis=0) for i in range(10)]\n",
    "clusterwise_sse = [0, 0, 0, 0, 0, 0, 0, 0, 0, 0]\n",
    "\n",
    "for point, label in zip(x_mnist, y_hierarchical2):\n",
    "    clusterwise_sse[label] += np.square(point - cluster_centers[label]).sum()\n",
    "    \n",
    "print(clusterwise_sse)\n",
    "print(np.sum(clusterwise_sse))"
   ]
  },
  {
   "cell_type": "code",
   "execution_count": null,
   "id": "f89b7f15",
   "metadata": {},
   "outputs": [],
   "source": [
    "sample_silhouette = silhouette_samples(x_mnist, y_hierarchical2)\n",
    "silhouette = [0, 0, 0, 0, 0, 0, 0, 0, 0, 0]\n",
    "for i in range(10):\n",
    "    silhouette_i = sample_silhouette[y_hierarchical2 == i]\n",
    "    silhouette_i = silhouette_i.sum()/(np.shape(silhouette_i))\n",
    "    silhouette[i] = silhouette_i\n",
    "print(silhouette)"
   ]
  },
  {
   "cell_type": "code",
   "execution_count": null,
   "id": "70cd7888",
   "metadata": {},
   "outputs": [],
   "source": [
    "silhouette_avg = silhouette_score(x_mnist, y_hierarchical2)\n",
    "print(silhouette_avg)"
   ]
  },
  {
   "cell_type": "code",
   "execution_count": null,
   "id": "77f8571b",
   "metadata": {},
   "outputs": [],
   "source": [
    "metrics.rand_score(y_mnist, y_hierarchical2)"
   ]
  }
 ],
 "metadata": {
  "kernelspec": {
   "display_name": "Python 3 (ipykernel)",
   "language": "python",
   "name": "python3"
  },
  "language_info": {
   "codemirror_mode": {
    "name": "ipython",
    "version": 3
   },
   "file_extension": ".py",
   "mimetype": "text/x-python",
   "name": "python",
   "nbconvert_exporter": "python",
   "pygments_lexer": "ipython3",
   "version": "3.9.12"
  }
 },
 "nbformat": 4,
 "nbformat_minor": 5
}
