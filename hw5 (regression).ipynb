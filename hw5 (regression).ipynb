{
 "cells": [
  {
   "cell_type": "markdown",
   "id": "c9d1ce50",
   "metadata": {},
   "source": [
    "# Compare regression methods"
   ]
  },
  {
   "cell_type": "code",
   "execution_count": 1,
   "id": "71d23ec9",
   "metadata": {},
   "outputs": [
    {
     "name": "stdout",
     "output_type": "stream",
     "text": [
      "Collecting package metadata (current_repodata.json): ...working... done\n",
      "Solving environment: ...working... done\n",
      "\n",
      "## Package Plan ##\n",
      "\n",
      "  environment location: C:\\Users\\henga\\anaconda3\\envs\\hw8\n",
      "\n",
      "  added / updated specs:\n",
      "    - seaborn\n",
      "\n",
      "\n",
      "The following packages will be downloaded:\n",
      "\n",
      "    package                    |            build\n",
      "    ---------------------------|-----------------\n",
      "    bottleneck-1.3.4           |   py39h080aedc_0         109 KB\n",
      "    ca-certificates-2022.3.29  |       haa95532_1         122 KB\n",
      "    kiwisolver-1.3.2           |   py39hd77b12b_0          56 KB\n",
      "    matplotlib-3.5.1           |   py39haa95532_1          29 KB\n",
      "    matplotlib-base-3.5.1      |   py39hd77b12b_1         5.6 MB\n",
      "    pandas-1.4.1               |   py39hd77b12b_1         8.9 MB\n",
      "    ------------------------------------------------------------\n",
      "                                           Total:        14.8 MB\n",
      "\n",
      "The following NEW packages will be INSTALLED:\n",
      "\n",
      "  bottleneck         pkgs/main/win-64::bottleneck-1.3.4-py39h080aedc_0\n",
      "  brotli             pkgs/main/win-64::brotli-1.0.9-ha925a31_2\n",
      "  cycler             pkgs/main/noarch::cycler-0.11.0-pyhd3eb1b0_0\n",
      "  fonttools          pkgs/main/noarch::fonttools-4.25.0-pyhd3eb1b0_0\n",
      "  icc_rt             pkgs/main/win-64::icc_rt-2019.0.0-h0cc432a_1\n",
      "  kiwisolver         pkgs/main/win-64::kiwisolver-1.3.2-py39hd77b12b_0\n",
      "  matplotlib         pkgs/main/win-64::matplotlib-3.5.1-py39haa95532_1\n",
      "  matplotlib-base    pkgs/main/win-64::matplotlib-base-3.5.1-py39hd77b12b_1\n",
      "  munkres            pkgs/main/noarch::munkres-1.1.4-py_0\n",
      "  numexpr            pkgs/main/win-64::numexpr-2.8.1-py39hb80d3ca_0\n",
      "  pandas             pkgs/main/win-64::pandas-1.4.1-py39hd77b12b_1\n",
      "  pytz               pkgs/main/noarch::pytz-2021.3-pyhd3eb1b0_0\n",
      "  scipy              pkgs/main/win-64::scipy-1.7.3-py39h0a974cb_0\n",
      "  seaborn            pkgs/main/noarch::seaborn-0.11.2-pyhd3eb1b0_0\n",
      "\n",
      "The following packages will be UPDATED:\n",
      "\n",
      "  ca-certificates                      2022.3.29-haa95532_0 --> 2022.3.29-haa95532_1\n",
      "\n",
      "\n",
      "\n",
      "Downloading and Extracting Packages\n",
      "\n",
      "ca-certificates-2022 | 122 KB    |            |   0% \n",
      "ca-certificates-2022 | 122 KB    | #3         |  13% \n",
      "ca-certificates-2022 | 122 KB    | ########## | 100% \n",
      "\n",
      "pandas-1.4.1         | 8.9 MB    |            |   0% \n",
      "pandas-1.4.1         | 8.9 MB    | 1          |   2% \n",
      "pandas-1.4.1         | 8.9 MB    | 3          |   4% \n",
      "pandas-1.4.1         | 8.9 MB    | 9          |   9% \n",
      "pandas-1.4.1         | 8.9 MB    | #3         |  13% \n",
      "pandas-1.4.1         | 8.9 MB    | ##6        |  26% \n",
      "pandas-1.4.1         | 8.9 MB    | ###8       |  39% \n",
      "pandas-1.4.1         | 8.9 MB    | #####2     |  53% \n",
      "pandas-1.4.1         | 8.9 MB    | ######6    |  66% \n",
      "pandas-1.4.1         | 8.9 MB    | #######7   |  77% \n",
      "pandas-1.4.1         | 8.9 MB    | ########6  |  87% \n",
      "pandas-1.4.1         | 8.9 MB    | #########4 |  94% \n",
      "pandas-1.4.1         | 8.9 MB    | ########## | 100% \n",
      "\n",
      "kiwisolver-1.3.2     | 56 KB     |            |   0% \n",
      "kiwisolver-1.3.2     | 56 KB     | ########## | 100% \n",
      "\n",
      "matplotlib-base-3.5. | 5.6 MB    |            |   0% \n",
      "matplotlib-base-3.5. | 5.6 MB    | #2         |  13% \n",
      "matplotlib-base-3.5. | 5.6 MB    | ###4       |  34% \n",
      "matplotlib-base-3.5. | 5.6 MB    | #####2     |  53% \n",
      "matplotlib-base-3.5. | 5.6 MB    | ######8    |  69% \n",
      "matplotlib-base-3.5. | 5.6 MB    | #########6 |  97% \n",
      "matplotlib-base-3.5. | 5.6 MB    | ########## | 100% \n",
      "\n",
      "matplotlib-3.5.1     | 29 KB     |            |   0% \n",
      "matplotlib-3.5.1     | 29 KB     | ########## | 100% \n",
      "matplotlib-3.5.1     | 29 KB     | ########## | 100% \n",
      "\n",
      "bottleneck-1.3.4     | 109 KB    |            |   0% \n",
      "bottleneck-1.3.4     | 109 KB    | ########## | 100% \n",
      "bottleneck-1.3.4     | 109 KB    | ########## | 100% \n",
      "Preparing transaction: ...working... done\n",
      "Verifying transaction: ...working... done\n",
      "Executing transaction: ...working... done\n",
      "\n",
      "Note: you may need to restart the kernel to use updated packages.\n"
     ]
    }
   ],
   "source": []
  },
  {
   "cell_type": "code",
   "execution_count": 1,
   "id": "fae44d81",
   "metadata": {},
   "outputs": [],
   "source": [
    "from sklearn.datasets import fetch_california_housing\n",
    "import numpy as np\n",
    "import seaborn as sns\n",
    "import matplotlib.pyplot as plt\n",
    "from sklearn.model_selection import train_test_split\n",
    "from sklearn.preprocessing import PolynomialFeatures\n",
    "from sklearn.preprocessing import StandardScaler\n",
    "from sklearn.linear_model import LinearRegression \n",
    "from sklearn.linear_model import RANSACRegressor\n",
    "from sklearn.metrics import mean_squared_error\n",
    "from sklearn.linear_model import Ridge\n",
    "from sklearn.linear_model import Lasso\n",
    "from sklearn.metrics import r2_score\n",
    "import time"
   ]
  },
  {
   "cell_type": "markdown",
   "id": "5aeee826",
   "metadata": {},
   "source": [
    "### Import Data"
   ]
  },
  {
   "cell_type": "code",
   "execution_count": 2,
   "id": "fc6555d3",
   "metadata": {},
   "outputs": [
    {
     "name": "stdout",
     "output_type": "stream",
     "text": [
      "['MedInc', 'HouseAge', 'AveRooms', 'AveBedrms', 'Population', 'AveOccup', 'Latitude', 'Longitude', 'MedHouseVal']\n",
      "(20640, 8)\n"
     ]
    }
   ],
   "source": [
    "data1 = fetch_california_housing(as_frame=True)\n",
    "data = data1.frame\n",
    "x = data.iloc[:,:-1].values\n",
    "y = data['MedHouseVal'].values\n",
    "features = data1.feature_names + data1.target_names\n",
    "print(features)\n",
    "print(np.shape(x))"
   ]
  },
  {
   "cell_type": "code",
   "execution_count": 3,
   "id": "7458b5d4",
   "metadata": {},
   "outputs": [
    {
     "data": {
      "text/plain": [
       "MedInc         0\n",
       "HouseAge       0\n",
       "AveRooms       0\n",
       "AveBedrms      0\n",
       "Population     0\n",
       "AveOccup       0\n",
       "Latitude       0\n",
       "Longitude      0\n",
       "MedHouseVal    0\n",
       "dtype: int64"
      ]
     },
     "execution_count": 3,
     "metadata": {},
     "output_type": "execute_result"
    }
   ],
   "source": [
    "data.isnull().sum()"
   ]
  },
  {
   "cell_type": "code",
   "execution_count": 4,
   "id": "d01f7e2a",
   "metadata": {
    "scrolled": true
   },
   "outputs": [
    {
     "name": "stdout",
     "output_type": "stream",
     "text": [
      "[[ 1.         -0.11903399  0.32689543 -0.06204013  0.00483435  0.01876625\n",
      "  -0.07980913 -0.01517587  0.68807521]\n",
      " [-0.11903399  1.         -0.15327742 -0.07774728 -0.29624424  0.01319136\n",
      "   0.01117267 -0.10819681  0.10562341]\n",
      " [ 0.32689543 -0.15327742  1.          0.84762133 -0.07221285 -0.00485229\n",
      "   0.10638897 -0.02754005  0.15194829]\n",
      " [-0.06204013 -0.07774728  0.84762133  1.         -0.0661974  -0.0061812\n",
      "   0.06972113  0.01334439 -0.04670051]\n",
      " [ 0.00483435 -0.29624424 -0.07221285 -0.0661974   1.          0.06986273\n",
      "  -0.10878475  0.09977322 -0.02464968]\n",
      " [ 0.01876625  0.01319136 -0.00485229 -0.0061812   0.06986273  1.\n",
      "   0.00236618  0.00247582 -0.02373741]\n",
      " [-0.07980913  0.01117267  0.10638897  0.06972113 -0.10878475  0.00236618\n",
      "   1.         -0.92466443 -0.14416028]\n",
      " [-0.01517587 -0.10819681 -0.02754005  0.01334439  0.09977322  0.00247582\n",
      "  -0.92466443  1.         -0.04596662]\n",
      " [ 0.68807521  0.10562341  0.15194829 -0.04670051 -0.02464968 -0.02373741\n",
      "  -0.14416028 -0.04596662  1.        ]]\n"
     ]
    }
   ],
   "source": [
    "correlation_matrix = np.corrcoef(x.T,y)\n",
    "print(correlation_matrix)"
   ]
  },
  {
   "cell_type": "code",
   "execution_count": 5,
   "id": "1913a54a",
   "metadata": {},
   "outputs": [
    {
     "data": {
      "image/png": "[encoded data removed]",
      "text/plain": [
       "<Figure size 432x288 with 2 Axes>"
      ]
     },
     "metadata": {
      "needs_background": "light"
     },
     "output_type": "display_data"
    }
   ],
   "source": [
    "sns.heatmap(correlation_matrix, annot = True, yticklabels = features, xticklabels = features)\n",
    "plt.show()"
   ]
  },
  {
   "cell_type": "code",
   "execution_count": 13,
   "id": "022215da",
   "metadata": {},
   "outputs": [],
   "source": [
    "col = [0, 1, 2, 6]\n",
    "X = x[:,col]\n",
    "Y = y.reshape(y.shape[0],1)"
   ]
  },
  {
   "cell_type": "code",
   "execution_count": 14,
   "id": "4b43fdb1",
   "metadata": {},
   "outputs": [
    {
     "name": "stdout",
     "output_type": "stream",
     "text": [
      "(20640, 4)\n",
      "(20640, 1)\n"
     ]
    }
   ],
   "source": [
    "print(np.shape(X))\n",
    "print(np.shape(Y))"
   ]
  },
  {
   "cell_type": "code",
   "execution_count": 31,
   "id": "1630f9fe",
   "metadata": {},
   "outputs": [],
   "source": [
    "x_train, x_test, y_train, y_test = train_test_split(X, Y, test_size=0.2, random_state=1)"
   ]
  },
  {
   "cell_type": "code",
   "execution_count": 32,
   "id": "3e5ba834",
   "metadata": {},
   "outputs": [],
   "source": [
    "sc = StandardScaler()\n",
    "sc.fit(x_train)\n",
    "x_train_std = sc.transform(x_train)\n",
    "x_test_std = sc.transform(x_test)\n",
    "sc1 = StandardScaler()\n",
    "sc1.fit(y_train)\n",
    "y_train_std = sc1.transform(y_train)\n",
    "y_test_std = sc1.transform(y_test)"
   ]
  },
  {
   "cell_type": "markdown",
   "id": "61b7d34b",
   "metadata": {},
   "source": [
    "### (a) "
   ]
  },
  {
   "cell_type": "markdown",
   "id": "8cbd3640",
   "metadata": {},
   "source": [
    "### (i) Linear Regression"
   ]
  },
  {
   "cell_type": "code",
   "execution_count": 182,
   "id": "09c64751",
   "metadata": {},
   "outputs": [
    {
     "name": "stdout",
     "output_type": "stream",
     "text": [
      " Running time: 0.008770942687988281 seconds \n"
     ]
    }
   ],
   "source": [
    "start_time = time.time()\n",
    "reg = LinearRegression()\n",
    "reg.fit(x_train_std, y_train_std)\n",
    "print(\" Running time: %s seconds \" % (time.time() - start_time))\n",
    "y_test_pred_std = reg.predict(x_test_std)\n",
    "y_train_pred_std = reg.predict(x_train_std)"
   ]
  },
  {
   "cell_type": "code",
   "execution_count": 183,
   "id": "4d8c1170",
   "metadata": {},
   "outputs": [
    {
     "name": "stdout",
     "output_type": "stream",
     "text": [
      "[[2.06958344]\n",
      " [1.34802772]\n",
      " [2.36425543]\n",
      " ...\n",
      " [2.46713104]\n",
      " [2.81818897]\n",
      " [2.03748859]]\n"
     ]
    }
   ],
   "source": [
    "y_test_pred = sc1.inverse_transform(y_test_pred_std)\n",
    "y_train_pred = sc1.inverse_transform(y_train_pred_std)\n",
    "print(y_test_pred)"
   ]
  },
  {
   "cell_type": "code",
   "execution_count": 184,
   "id": "e076bc20",
   "metadata": {},
   "outputs": [
    {
     "name": "stdout",
     "output_type": "stream",
     "text": [
      "0.4804603927082151\n",
      "0.4757003082887243\n"
     ]
    }
   ],
   "source": [
    "error_train = mean_squared_error(y_train_std, y_train_pred_std)\n",
    "error_test = mean_squared_error(y_test_std, y_test_pred_std)\n",
    "print(error_train)\n",
    "print(error_test)"
   ]
  },
  {
   "cell_type": "code",
   "execution_count": 185,
   "id": "6b5955ba",
   "metadata": {},
   "outputs": [
    {
     "name": "stdout",
     "output_type": "stream",
     "text": [
      "0.6419568845085316\n",
      "0.6355967994519686\n"
     ]
    }
   ],
   "source": [
    "error_train = mean_squared_error(y_train, y_train_pred)\n",
    "error_test = mean_squared_error(y_test, y_test_pred)\n",
    "print(error_train)\n",
    "print(error_test)"
   ]
  },
  {
   "cell_type": "code",
   "execution_count": 186,
   "id": "307e6130",
   "metadata": {},
   "outputs": [
    {
     "name": "stdout",
     "output_type": "stream",
     "text": [
      "0.5195396072917849\n",
      "0.5154370387109977\n"
     ]
    }
   ],
   "source": [
    "r2_train = r2_score (y_train, y_train_pred)\n",
    "r2_test = r2_score (y_test, y_test_pred)\n",
    "print(r2_train)\n",
    "print(r2_test)"
   ]
  },
  {
   "cell_type": "code",
   "execution_count": 187,
   "id": "3f49ade4",
   "metadata": {},
   "outputs": [
    {
     "name": "stdout",
     "output_type": "stream",
     "text": [
      "[7.48488917e-15] [[ 0.71792629  0.18921081 -0.04049275 -0.0817175 ]]\n"
     ]
    }
   ],
   "source": [
    "print(reg.intercept_,reg.coef_)"
   ]
  },
  {
   "cell_type": "code",
   "execution_count": 135,
   "id": "b1bb6c19",
   "metadata": {},
   "outputs": [
    {
     "data": {
      "image/png": "[encoded data removed]",
      "text/plain": [
       "<Figure size 432x288 with 1 Axes>"
      ]
     },
     "metadata": {
      "needs_background": "light"
     },
     "output_type": "display_data"
    }
   ],
   "source": [
    "y_train_pred = y_train_pred.reshape(y_train_pred.shape[0],1)\n",
    "y_test_pred = y_test_pred.reshape(y_test_pred.shape[0],1)\n",
    "plt.scatter(y_train_pred, y_train_pred - y_train,  c='blue', marker='o', label='Training data') \n",
    "plt.scatter(y_test_pred, y_test_pred - y_test,  c='green', marker='s', label='Test data')\n",
    "plt.hlines(y=0, xmin=-2, xmax=7, color='black', lw=2) \n",
    "plt.legend(loc='best')\n",
    "plt.show()"
   ]
  },
  {
   "cell_type": "markdown",
   "id": "0f093bfd",
   "metadata": {},
   "source": [
    "### (ii) RANSACRegressor"
   ]
  },
  {
   "cell_type": "code",
   "execution_count": 163,
   "id": "203e92e2",
   "metadata": {},
   "outputs": [
    {
     "name": "stdout",
     "output_type": "stream",
     "text": [
      " Running time: 0.10774517059326172 seconds \n"
     ]
    }
   ],
   "source": [
    "start_time = time.time()\n",
    "RANS = RANSACRegressor(LinearRegression(), max_trials=100, min_samples=50, loss='squared_loss', residual_threshold=2.0, random_state=1)\n",
    "RANS.fit(x_train_std, y_train_std)\n",
    "print(\" Running time: %s seconds \" % (time.time() - start_time))\n",
    "y_test_pred_std = RANS.predict(x_test_std)\n",
    "y_train_pred_std = RANS.predict(x_train_std)"
   ]
  },
  {
   "cell_type": "code",
   "execution_count": 164,
   "id": "71c7a61f",
   "metadata": {},
   "outputs": [],
   "source": [
    "y_test_pred = sc1.inverse_transform(y_test_pred_std)\n",
    "y_train_pred = sc1.inverse_transform(y_train_pred_std)"
   ]
  },
  {
   "cell_type": "code",
   "execution_count": 165,
   "id": "e6568d05",
   "metadata": {},
   "outputs": [
    {
     "name": "stdout",
     "output_type": "stream",
     "text": [
      "0.5057503987814449\n",
      "0.483311016149007\n"
     ]
    }
   ],
   "source": [
    "error_train = mean_squared_error(y_train_std, y_train_pred_std)\n",
    "error_test = mean_squared_error(y_test_std, y_test_pred_std) \n",
    "print(error_train)\n",
    "print(error_test)"
   ]
  },
  {
   "cell_type": "code",
   "execution_count": 166,
   "id": "1e1c6b46",
   "metadata": {},
   "outputs": [
    {
     "name": "stdout",
     "output_type": "stream",
     "text": [
      "0.6757475855826823\n",
      "0.6457656840906215\n"
     ]
    }
   ],
   "source": [
    "error_train = mean_squared_error(y_train, y_train_pred)\n",
    "error_test = mean_squared_error(y_test, y_test_pred) \n",
    "print(error_train)\n",
    "print(error_test)"
   ]
  },
  {
   "cell_type": "code",
   "execution_count": 167,
   "id": "73d0d8b0",
   "metadata": {},
   "outputs": [
    {
     "name": "stdout",
     "output_type": "stream",
     "text": [
      "0.4942496012185552\n",
      "0.5076845376635404\n"
     ]
    }
   ],
   "source": [
    "r2_train = r2_score (y_train, y_train_pred)\n",
    "r2_test = r2_score (y_test, y_test_pred)\n",
    "print(r2_train)\n",
    "print(r2_test)"
   ]
  },
  {
   "cell_type": "code",
   "execution_count": 168,
   "id": "edca0dac",
   "metadata": {},
   "outputs": [
    {
     "name": "stdout",
     "output_type": "stream",
     "text": [
      "[-0.05611082] [[ 0.82872287  0.18199911 -0.18292909 -0.06445025]]\n"
     ]
    }
   ],
   "source": [
    "print(RANS.estimator_.intercept_,RANS.estimator_.coef_)"
   ]
  },
  {
   "cell_type": "code",
   "execution_count": 169,
   "id": "26098e42",
   "metadata": {},
   "outputs": [
    {
     "data": {
      "image/png": "[encoded data removed]",
      "text/plain": [
       "<Figure size 432x288 with 1 Axes>"
      ]
     },
     "metadata": {
      "needs_background": "light"
     },
     "output_type": "display_data"
    }
   ],
   "source": [
    "y_train_pred = y_train_pred.reshape(y_train_pred.shape[0],1)\n",
    "y_test_pred = y_test_pred.reshape(y_test_pred.shape[0],1)\n",
    "plt.scatter(y_train_pred, y_train_pred - y_train,  c='blue', marker='o', label='Training data') \n",
    "plt.scatter(y_test_pred, y_test_pred - y_test,  c='green', marker='s', label='Test data')\n",
    "plt.hlines(y=0, xmin=0, xmax=7, color='black', lw=2) \n",
    "plt.legend(loc='best')\n",
    "plt.show()"
   ]
  },
  {
   "cell_type": "markdown",
   "id": "01d8250a",
   "metadata": {},
   "source": [
    "### (iii) Ridge"
   ]
  },
  {
   "cell_type": "code",
   "execution_count": 188,
   "id": "0900300f",
   "metadata": {},
   "outputs": [
    {
     "name": "stdout",
     "output_type": "stream",
     "text": [
      " Running time: 0.005875110626220703 seconds \n"
     ]
    }
   ],
   "source": [
    "start_time = time.time()\n",
    "ridge = Ridge(alpha=0.5)\n",
    "ridge.fit(x_train_std, y_train_std)\n",
    "print(\" Running time: %s seconds \" % (time.time() - start_time))\n",
    "y_test_pred_std = ridge.predict(x_test_std)\n",
    "y_train_pred_std = ridge.predict(x_train_std)"
   ]
  },
  {
   "cell_type": "code",
   "execution_count": 171,
   "id": "33dea795",
   "metadata": {},
   "outputs": [],
   "source": [
    "y_test_pred = sc1.inverse_transform(y_test_pred_std)\n",
    "y_train_pred = sc1.inverse_transform(y_train_pred_std)"
   ]
  },
  {
   "cell_type": "code",
   "execution_count": 172,
   "id": "1ce1feb6",
   "metadata": {},
   "outputs": [
    {
     "name": "stdout",
     "output_type": "stream",
     "text": [
      "0.48046039330880225\n",
      "0.475699261387121\n"
     ]
    }
   ],
   "source": [
    "error_train = mean_squared_error(y_train_std, y_train_pred_std)\n",
    "error_test = mean_squared_error(y_test_std, y_test_pred_std) \n",
    "print(error_train)\n",
    "print(error_test)"
   ]
  },
  {
   "cell_type": "code",
   "execution_count": 173,
   "id": "f27fe047",
   "metadata": {},
   "outputs": [
    {
     "name": "stdout",
     "output_type": "stream",
     "text": [
      "0.6419568853109932\n",
      "0.6355954006567675\n"
     ]
    }
   ],
   "source": [
    "error_train = mean_squared_error(y_train, y_train_pred)\n",
    "error_test = mean_squared_error(y_test, y_test_pred) \n",
    "print(error_train)\n",
    "print(error_test)"
   ]
  },
  {
   "cell_type": "code",
   "execution_count": 174,
   "id": "b39d0909",
   "metadata": {},
   "outputs": [
    {
     "name": "stdout",
     "output_type": "stream",
     "text": [
      "0.5195396066911979\n",
      "0.5154381051171619\n"
     ]
    }
   ],
   "source": [
    "r2_train = r2_score (y_train, y_train_pred )\n",
    "r2_test = r2_score (y_test, y_test_pred )\n",
    "print(r2_train)\n",
    "print(r2_test)"
   ]
  },
  {
   "cell_type": "code",
   "execution_count": 175,
   "id": "848d869e",
   "metadata": {},
   "outputs": [
    {
     "name": "stdout",
     "output_type": "stream",
     "text": [
      "[7.48452805e-15] [[ 0.7179011   0.18920315 -0.04048478 -0.08171774]]\n"
     ]
    }
   ],
   "source": [
    "print(ridge.intercept_,ridge.coef_)"
   ]
  },
  {
   "cell_type": "code",
   "execution_count": 176,
   "id": "ae678e58",
   "metadata": {},
   "outputs": [
    {
     "data": {
      "image/png": "[encoded data removed]",
      "text/plain": [
       "<Figure size 432x288 with 1 Axes>"
      ]
     },
     "metadata": {
      "needs_background": "light"
     },
     "output_type": "display_data"
    }
   ],
   "source": [
    "y_train_pred = y_train_pred.reshape(y_train_pred.shape[0],1)\n",
    "y_test_pred = y_test_pred.reshape(y_test_pred.shape[0],1)\n",
    "plt.scatter(y_train_pred, y_train_pred - y_train,  c='blue', marker='o', label='Training data') \n",
    "plt.scatter(y_test_pred, y_test_pred - y_test,  c='green', marker='s', label='Test data')\n",
    "plt.hlines(y=0, xmin=0, xmax=7, color='black', lw=2) \n",
    "plt.legend(loc='best')\n",
    "plt.show()"
   ]
  },
  {
   "cell_type": "markdown",
   "id": "ffcb8741",
   "metadata": {},
   "source": [
    "### (iv) Lasso"
   ]
  },
  {
   "cell_type": "code",
   "execution_count": 154,
   "id": "1f305dd2",
   "metadata": {},
   "outputs": [
    {
     "name": "stdout",
     "output_type": "stream",
     "text": [
      " Running time: 0.008333444595336914 seconds \n"
     ]
    }
   ],
   "source": [
    "start_time = time.time()\n",
    "lasso = Lasso(alpha=0.01)\n",
    "lasso.fit(x_train_std, y_train_std)\n",
    "print(\" Running time: %s seconds \" % (time.time() - start_time))\n",
    "y_test_pred_std = lasso.predict(x_test_std)\n",
    "y_train_pred_std = lasso.predict(x_train_std)"
   ]
  },
  {
   "cell_type": "code",
   "execution_count": 155,
   "id": "266d2354",
   "metadata": {},
   "outputs": [],
   "source": [
    "y_test_pred = sc1.inverse_transform(y_test_pred_std)\n",
    "y_train_pred = sc1.inverse_transform(y_train_pred_std)"
   ]
  },
  {
   "cell_type": "code",
   "execution_count": 156,
   "id": "c1fdd640",
   "metadata": {},
   "outputs": [
    {
     "name": "stdout",
     "output_type": "stream",
     "text": [
      "0.4809042278215723\n",
      "0.4760974525448057\n"
     ]
    }
   ],
   "source": [
    "error_train = mean_squared_error(y_train_std, y_train_pred_std)\n",
    "error_test = mean_squared_error(y_test_std, y_test_pred_std)\n",
    "print(error_train)\n",
    "print(error_test)"
   ]
  },
  {
   "cell_type": "code",
   "execution_count": 157,
   "id": "ac4d74dd",
   "metadata": {},
   "outputs": [
    {
     "name": "stdout",
     "output_type": "stream",
     "text": [
      "0.6425499053088525\n",
      "0.636127435261296\n"
     ]
    }
   ],
   "source": [
    "error_train = mean_squared_error(y_train, y_train_pred)\n",
    "error_test = mean_squared_error(y_test, y_test_pred)\n",
    "print(error_train)\n",
    "print(error_test)"
   ]
  },
  {
   "cell_type": "code",
   "execution_count": 158,
   "id": "df5dc60f",
   "metadata": {},
   "outputs": [
    {
     "name": "stdout",
     "output_type": "stream",
     "text": [
      "0.5190957721784277\n",
      "0.5150324953600001\n"
     ]
    }
   ],
   "source": [
    "r2_train = r2_score (y_train, y_train_pred )\n",
    "r2_test = r2_score (y_test, y_test_pred )\n",
    "print(r2_train)\n",
    "print(r2_test)"
   ]
  },
  {
   "cell_type": "code",
   "execution_count": 159,
   "id": "4b800e6e",
   "metadata": {},
   "outputs": [
    {
     "name": "stdout",
     "output_type": "stream",
     "text": [
      "[7.46275071e-15] [ 0.70346528  0.17916747 -0.02829709 -0.07404027]\n"
     ]
    }
   ],
   "source": [
    "print(lasso.intercept_,lasso.coef_)"
   ]
  },
  {
   "cell_type": "code",
   "execution_count": 160,
   "id": "317b1721",
   "metadata": {},
   "outputs": [
    {
     "data": {
      "image/png": "[encoded data removed]",
      "text/plain": [
       "<Figure size 432x288 with 1 Axes>"
      ]
     },
     "metadata": {
      "needs_background": "light"
     },
     "output_type": "display_data"
    }
   ],
   "source": [
    "y_train_pred = y_train_pred.reshape(y_train_pred.shape[0],1)\n",
    "y_test_pred = y_test_pred.reshape(y_test_pred.shape[0],1)\n",
    "plt.scatter(y_train_pred, y_train_pred - y_train,  c='blue', marker='o', label='Training data') \n",
    "plt.scatter(y_test_pred, y_test_pred - y_test,  c='green', marker='s', label='Test data')\n",
    "plt.hlines(y=0, xmin=0, xmax=7, color='black', lw=2) \n",
    "plt.legend(loc='best')\n",
    "plt.show()"
   ]
  },
  {
   "cell_type": "markdown",
   "id": "5c194373",
   "metadata": {},
   "source": [
    "### (b) Non-linear Regression"
   ]
  },
  {
   "cell_type": "code",
   "execution_count": 107,
   "id": "b1dcd1c8",
   "metadata": {},
   "outputs": [
    {
     "name": "stdout",
     "output_type": "stream",
     "text": [
      " Running time: 0.007913589477539062 seconds \n"
     ]
    }
   ],
   "source": [
    "twoD = PolynomialFeatures(degree=2) \n",
    "x_train_twoD_std = twoD.fit_transform(x_train_std)\n",
    "x_test_twoD_std = twoD.fit_transform(x_test_std)\n",
    "\n",
    "start_time = time.time()\n",
    "non_reg = LinearRegression()\n",
    "non_reg.fit(x_train_twoD_std, y_train_std)\n",
    "print(\" Running time: %s seconds \" % (time.time() - start_time))\n",
    "y_test_pred_std = non_reg.predict(x_test_twoD_std)\n",
    "y_train_pred_std = non_reg.predict(x_train_twoD_std)"
   ]
  },
  {
   "cell_type": "code",
   "execution_count": 108,
   "id": "7da1292f",
   "metadata": {},
   "outputs": [],
   "source": [
    "y_test_pred = sc1.inverse_transform(y_test_pred_std)\n",
    "y_train_pred = sc1.inverse_transform(y_train_pred_std)"
   ]
  },
  {
   "cell_type": "code",
   "execution_count": 109,
   "id": "26cba784",
   "metadata": {},
   "outputs": [
    {
     "name": "stdout",
     "output_type": "stream",
     "text": [
      "0.45484934617570444\n",
      "0.4488957129910834\n"
     ]
    }
   ],
   "source": [
    "error_train = mean_squared_error(y_train_std, y_train_pred_std)\n",
    "error_test = mean_squared_error(y_test_std, y_test_pred_std)\n",
    "print(error_train)\n",
    "print(error_test)"
   ]
  },
  {
   "cell_type": "code",
   "execution_count": 110,
   "id": "7aabfe11",
   "metadata": {},
   "outputs": [
    {
     "name": "stdout",
     "output_type": "stream",
     "text": [
      "0.60773723208653\n",
      "0.5997824123579721\n"
     ]
    }
   ],
   "source": [
    "error_train = mean_squared_error(y_train, y_train_pred)\n",
    "error_test = mean_squared_error(y_test, y_test_pred)\n",
    "print(error_train)\n",
    "print(error_test)"
   ]
  },
  {
   "cell_type": "code",
   "execution_count": 111,
   "id": "996abfb6",
   "metadata": {},
   "outputs": [
    {
     "name": "stdout",
     "output_type": "stream",
     "text": [
      "0.5451506538242955\n",
      "0.542741023693271\n"
     ]
    }
   ],
   "source": [
    "r2_train = r2_score (y_train, y_train_pred )\n",
    "r2_test = r2_score (y_test, y_test_pred )\n",
    "print(r2_train)\n",
    "print(r2_test)"
   ]
  },
  {
   "cell_type": "code",
   "execution_count": 112,
   "id": "2cec7586",
   "metadata": {},
   "outputs": [],
   "source": [
    "y_train_pred = y_train_pred.reshape(y_train_pred.shape[0],1)\n",
    "y_test_pred = y_test_pred.reshape(y_test_pred.shape[0],1)"
   ]
  },
  {
   "cell_type": "code",
   "execution_count": 113,
   "id": "372a4be2",
   "metadata": {},
   "outputs": [
    {
     "data": {
      "image/png": "[encoded data removed]",
      "text/plain": [
       "<Figure size 432x288 with 1 Axes>"
      ]
     },
     "metadata": {
      "needs_background": "light"
     },
     "output_type": "display_data"
    }
   ],
   "source": [
    "y_train_pred = y_train_pred.reshape(y_train_pred.shape[0],1)\n",
    "y_test_pred = y_test_pred.reshape(y_test_pred.shape[0],1)\n",
    "plt.scatter(y_train_pred, y_train_pred - y_train,  c='blue', marker='o', label='Training data') \n",
    "plt.scatter(y_test_pred, y_test_pred - y_test,  c='green', marker='s', label='Test data')\n",
    "plt.hlines(y=0, xmin=0, xmax=7, color='black', lw=2) \n",
    "plt.legend(loc='best')\n",
    "plt.show()"
   ]
  },
  {
   "cell_type": "code",
   "execution_count": 122,
   "id": "c049127e",
   "metadata": {},
   "outputs": [
    {
     "name": "stdout",
     "output_type": "stream",
     "text": [
      " Running time: 0.04627561569213867 seconds \n"
     ]
    }
   ],
   "source": [
    "threeD = PolynomialFeatures(degree=3) \n",
    "x_train_threeD_std = threeD.fit_transform(x_train_std)\n",
    "x_test_threeD_std = threeD.fit_transform(x_test_std)\n",
    "\n",
    "start_time = time.time()\n",
    "non_reg = LinearRegression()\n",
    "non_reg.fit(x_train_threeD_std , y_train_std)\n",
    "print(\" Running time: %s seconds \" % (time.time() - start_time))\n",
    "y_test_pred_std = non_reg.predict(x_test_threeD_std)\n",
    "y_train_pred_std = non_reg.predict(x_train_threeD_std)"
   ]
  },
  {
   "cell_type": "code",
   "execution_count": 123,
   "id": "cb7b2857",
   "metadata": {},
   "outputs": [],
   "source": [
    "y_test_pred = sc1.inverse_transform(y_test_pred_std)\n",
    "y_train_pred = sc1.inverse_transform(y_train_pred_std)"
   ]
  },
  {
   "cell_type": "code",
   "execution_count": 124,
   "id": "757690be",
   "metadata": {},
   "outputs": [
    {
     "name": "stdout",
     "output_type": "stream",
     "text": [
      "0.4207250816006896\n",
      "0.41450221766894585\n"
     ]
    }
   ],
   "source": [
    "error_train = mean_squared_error(y_train_std, y_train_pred_std)\n",
    "error_test = mean_squared_error(y_test_std, y_test_pred_std)\n",
    "print(error_train)\n",
    "print(error_test)"
   ]
  },
  {
   "cell_type": "code",
   "execution_count": 125,
   "id": "2f395f43",
   "metadata": {},
   "outputs": [
    {
     "name": "stdout",
     "output_type": "stream",
     "text": [
      "0.5621428253358675\n",
      "0.5538282786989943\n"
     ]
    }
   ],
   "source": [
    "error_train = mean_squared_error(y_train, y_train_pred)\n",
    "error_test = mean_squared_error(y_test, y_test_pred)\n",
    "print(error_train)\n",
    "print(error_test)"
   ]
  },
  {
   "cell_type": "code",
   "execution_count": 126,
   "id": "89a2ecb9",
   "metadata": {},
   "outputs": [
    {
     "name": "stdout",
     "output_type": "stream",
     "text": [
      "0.5792749183993104\n",
      "0.577775295590903\n"
     ]
    }
   ],
   "source": [
    "r2_train = r2_score (y_train, y_train_pred )\n",
    "r2_test = r2_score (y_test, y_test_pred )\n",
    "print(r2_train)\n",
    "print(r2_test)"
   ]
  },
  {
   "cell_type": "code",
   "execution_count": 127,
   "id": "3e94955b",
   "metadata": {},
   "outputs": [],
   "source": [
    "y_train_pred = y_train_pred.reshape(y_train_pred.shape[0],1)\n",
    "y_test_pred = y_test_pred.reshape(y_test_pred.shape[0],1)"
   ]
  },
  {
   "cell_type": "code",
   "execution_count": 128,
   "id": "afae3720",
   "metadata": {},
   "outputs": [
    {
     "data": {
      "image/png": "[encoded data removed]",
      "text/plain": [
       "<Figure size 432x288 with 1 Axes>"
      ]
     },
     "metadata": {
      "needs_background": "light"
     },
     "output_type": "display_data"
    }
   ],
   "source": [
    "y_train_pred = y_train_pred.reshape(y_train_pred.shape[0],1)\n",
    "y_test_pred = y_test_pred.reshape(y_test_pred.shape[0],1)\n",
    "plt.scatter(y_train_pred, y_train_pred - y_train,  c='blue', marker='o', label='Training data') \n",
    "plt.scatter(y_test_pred, y_test_pred - y_test,  c='green', marker='s', label='Test data')\n",
    "plt.hlines(y=0, xmin=0, xmax=7, color='black', lw=2) \n",
    "plt.legend(loc='best')\n",
    "plt.show()"
   ]
  },
  {
   "cell_type": "code",
   "execution_count": null,
   "id": "397649f6",
   "metadata": {},
   "outputs": [],
   "source": []
  }
 ],
 "metadata": {
  "kernelspec": {
   "display_name": "Python 3 (ipykernel)",
   "language": "python",
   "name": "python3"
  },
  "language_info": {
   "codemirror_mode": {
    "name": "ipython",
    "version": 3
   },
   "file_extension": ".py",
   "mimetype": "text/x-python",
   "name": "python",
   "nbconvert_exporter": "python",
   "pygments_lexer": "ipython3",
   "version": "3.9.7"
  }
 },
 "nbformat": 4,
 "nbformat_minor": 5
}
