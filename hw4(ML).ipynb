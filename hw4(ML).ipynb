{
 "cells": [
  {
   "cell_type": "code",
   "execution_count": 1,
   "id": "acfb9794",
   "metadata": {},
   "outputs": [],
   "source": [
    "import pandas as pd\n",
    "from sklearn.datasets import fetch_openml\n",
    "from sklearn.model_selection import train_test_split\n",
    "from sklearn.preprocessing import StandardScaler\n",
    "import numpy as np\n",
    "from sklearn.decomposition import PCA\n",
    "from sklearn.discriminant_analysis import LinearDiscriminantAnalysis as LDA\n",
    "from sklearn.tree import DecisionTreeClassifier\n",
    "from sklearn.metrics import accuracy_score\n",
    "from sklearn.decomposition import KernelPCA\n",
    "from sklearn.metrics import precision_score, recall_score, f1_score\n",
    "from sklearn.metrics import roc_curve, auc\n",
    "import time"
   ]
  },
  {
   "cell_type": "markdown",
   "id": "7c3b7eb9",
   "metadata": {},
   "source": [
    "### Import IRIS data"
   ]
  },
  {
   "cell_type": "code",
   "execution_count": 2,
   "id": "a021f14d",
   "metadata": {},
   "outputs": [
    {
     "name": "stdout",
     "output_type": "stream",
     "text": [
      "(150, 5)\n"
     ]
    }
   ],
   "source": [
    "# Read Iris data from website, this data does not have headers\n",
    "url = \"https://www.cs.nmsu.edu/~hcao/teaching/cs487519/data/iris.data\"\n",
    "iris_data = pd.read_csv(url, header=None)\n",
    "print(np.shape(iris_data))\n",
    "iris_x = iris_data.iloc[:, 0:-1].values\n",
    "iris_y = iris_data.iloc[:, -1].values\n",
    "# Split data to train and test datasets\n",
    "iris_x_train, iris_x_test, iris_y_train, iris_y_test = train_test_split(iris_x, iris_y, test_size=0.3, random_state=1, stratify=iris_y)"
   ]
  },
  {
   "cell_type": "markdown",
   "id": "8968233d",
   "metadata": {},
   "source": [
    "### Standardize the datasets"
   ]
  },
  {
   "cell_type": "code",
   "execution_count": 3,
   "id": "16cebc3a",
   "metadata": {},
   "outputs": [],
   "source": [
    "sc = StandardScaler()\n",
    "sc.fit(iris_x_train)\n",
    "iris_x_train_std = sc.transform(iris_x_train)\n",
    "iris_x_test_std = sc.transform(iris_x_test)"
   ]
  },
  {
   "cell_type": "markdown",
   "id": "7d0ca4c4",
   "metadata": {},
   "source": [
    "### Apply decision tree on data without any reduction in dimensionality"
   ]
  },
  {
   "cell_type": "code",
   "execution_count": 25,
   "id": "8ba3dd44",
   "metadata": {},
   "outputs": [
    {
     "name": "stdout",
     "output_type": "stream",
     "text": [
      " Running time: 0.008025884628295898 seconds \n"
     ]
    }
   ],
   "source": [
    "start_time = time.time()\n",
    "tree_model = DecisionTreeClassifier(criterion='gini', max_depth=4, random_state=1)\n",
    "tree_model.fit(iris_x_train_std, iris_y_train)\n",
    "print(\" Running time: %s seconds \" % (time.time() - start_time))\n",
    "# Predict the test dataset by decision tree model\n",
    "iris_y_pred = tree_model.predict(iris_x_test_std)\n",
    "# Predict the train dataset by decision tree model\n",
    "iris_y_train_pred = tree_model.predict(iris_x_train_std)"
   ]
  },
  {
   "cell_type": "code",
   "execution_count": 5,
   "id": "37b2992c",
   "metadata": {},
   "outputs": [
    {
     "name": "stdout",
     "output_type": "stream",
     "text": [
      "Accuracy: 0.977778\n",
      "Precision: 0.977778\n",
      "Recall: 0.977778\n",
      "F1: 0.977778\n"
     ]
    }
   ],
   "source": [
    "print('Accuracy: %f' % accuracy_score(iris_y_pred, iris_y_test))\n",
    "print('Precision: %f' % precision_score(iris_y_pred, iris_y_test, average=\"micro\"))\n",
    "print('Recall: %f' % recall_score(iris_y_pred, iris_y_test, average=\"micro\"))\n",
    "print('F1: %f' % f1_score(iris_y_pred, iris_y_test, average=\"micro\"))"
   ]
  },
  {
   "cell_type": "code",
   "execution_count": 6,
   "id": "453b8bd3",
   "metadata": {},
   "outputs": [
    {
     "name": "stdout",
     "output_type": "stream",
     "text": [
      "Accuracy: 0.971429\n",
      "Precision: 0.971429\n",
      "Recall: 0.971429\n",
      "F1: 0.971429\n"
     ]
    }
   ],
   "source": [
    "print('Accuracy: %f' % accuracy_score(iris_y_train_pred, iris_y_train))\n",
    "print('Precision: %f' % precision_score(iris_y_train_pred, iris_y_train, average=\"micro\"))\n",
    "print('Recall: %f' % recall_score(iris_y_train_pred, iris_y_train, average=\"micro\"))\n",
    "print('F1: %f' % f1_score(iris_y_train_pred, iris_y_train, average=\"micro\"))"
   ]
  },
  {
   "cell_type": "markdown",
   "id": "af807c03",
   "metadata": {},
   "source": [
    "### Principal Component Analysis (PCA)"
   ]
  },
  {
   "cell_type": "code",
   "execution_count": 21,
   "id": "342c240c",
   "metadata": {},
   "outputs": [],
   "source": [
    "pca = PCA(n_components=3)\n",
    "iris_x\n",
    "iris_x_train_pca = pca.fit_transform(iris_x_train_std)\n",
    "iris_x_test_pca = pca.transform(iris_x_test_std)"
   ]
  },
  {
   "cell_type": "code",
   "execution_count": 22,
   "id": "c28f5d8a",
   "metadata": {},
   "outputs": [
    {
     "name": "stdout",
     "output_type": "stream",
     "text": [
      " Running time: 0.006083488464355469 seconds \n"
     ]
    }
   ],
   "source": [
    "start_time = time.time()\n",
    "tree_model = DecisionTreeClassifier(criterion='gini', max_depth=4, random_state=1)\n",
    "tree_model.fit(iris_x_train_pca, iris_y_train)\n",
    "print(\" Running time: %s seconds \" % (time.time() - start_time))\n",
    "# Predict the test dataset by decision tree model\n",
    "iris_y_pca_pred = tree_model.predict(iris_x_test_pca)\n",
    "# Predict the train dataset by decision tree model\n",
    "iris_y_train_pca_pred = tree_model.predict(iris_x_train_pca)"
   ]
  },
  {
   "cell_type": "code",
   "execution_count": 9,
   "id": "0a81bb98",
   "metadata": {},
   "outputs": [
    {
     "name": "stdout",
     "output_type": "stream",
     "text": [
      "Accuracy: 0.977778\n",
      "Precision: 0.977778\n",
      "Recall: 0.977778\n",
      "F1: 0.977778\n"
     ]
    }
   ],
   "source": [
    "print('Accuracy: %f' % accuracy_score(iris_y_pca_pred, iris_y_test))\n",
    "print('Precision: %f' % precision_score(iris_y_pca_pred, iris_y_test, average=\"micro\"))\n",
    "print('Recall: %f' % recall_score(iris_y_pca_pred, iris_y_test, average=\"micro\"))\n",
    "print('F1: %f' % f1_score(iris_y_pca_pred, iris_y_test, average=\"micro\"))"
   ]
  },
  {
   "cell_type": "code",
   "execution_count": 10,
   "id": "71f22fa7",
   "metadata": {},
   "outputs": [
    {
     "name": "stdout",
     "output_type": "stream",
     "text": [
      "Accuracy: 0.990476\n",
      "Precision: 0.990476\n",
      "Recall: 0.990476\n",
      "F1: 0.990476\n"
     ]
    }
   ],
   "source": [
    "print('Accuracy: %f' % accuracy_score(iris_y_train_pca_pred, iris_y_train))\n",
    "print('Precision: %f' % precision_score(iris_y_train_pca_pred, iris_y_train, average=\"micro\"))\n",
    "print('Recall: %f' % recall_score(iris_y_train_pca_pred, iris_y_train, average=\"micro\"))\n",
    "print('F1: %f' % f1_score(iris_y_train_pca_pred, iris_y_train, average=\"micro\"))"
   ]
  },
  {
   "cell_type": "markdown",
   "id": "0990cf5f",
   "metadata": {},
   "source": [
    "### Linear Discriminant Analysis"
   ]
  },
  {
   "cell_type": "code",
   "execution_count": 48,
   "id": "ddeece4c",
   "metadata": {},
   "outputs": [],
   "source": [
    "lda = LDA(n_components=1)\n",
    "iris_x_train_lda = lda.fit_transform(iris_x_train_std, iris_y_train)\n",
    "iris_x_test_lda = lda.transform(iris_x_test_std)"
   ]
  },
  {
   "cell_type": "code",
   "execution_count": 51,
   "id": "12198c22",
   "metadata": {},
   "outputs": [
    {
     "name": "stdout",
     "output_type": "stream",
     "text": [
      "Running time:  0.0043544769287109375 seconds \n"
     ]
    }
   ],
   "source": [
    "start_time = time.time()\n",
    "tree_model = DecisionTreeClassifier(criterion='gini', max_depth=4, random_state=1)\n",
    "tree_model.fit(iris_x_train_lda, iris_y_train)\n",
    "print(\"Running time:  %s seconds \" % (time.time() - start_time))\n",
    "# Predict the test dataset by decision tree model\n",
    "iris_y_lda_pred = tree_model.predict(iris_x_test_lda)\n",
    "# Predict the train dataset by decision tree model\n",
    "iris_y_train_lda_pred = tree_model.predict(iris_x_train_lda)"
   ]
  },
  {
   "cell_type": "code",
   "execution_count": 37,
   "id": "519c5762",
   "metadata": {},
   "outputs": [
    {
     "name": "stdout",
     "output_type": "stream",
     "text": [
      "Accuracy: 0.955556\n",
      "Precision: 0.955556\n",
      "Recall: 0.955556\n",
      "F1: 0.955556\n"
     ]
    }
   ],
   "source": [
    "print('Accuracy: %f' % accuracy_score(iris_y_lda_pred, iris_y_test))\n",
    "print('Precision: %f' % precision_score(iris_y_lda_pred, iris_y_test, average=\"micro\"))\n",
    "print('Recall: %f' % recall_score(iris_y_lda_pred, iris_y_test, average=\"micro\"))\n",
    "print('F1: %f' % f1_score(iris_y_lda_pred, iris_y_test, average=\"micro\"))"
   ]
  },
  {
   "cell_type": "code",
   "execution_count": 38,
   "id": "83808c35",
   "metadata": {},
   "outputs": [
    {
     "name": "stdout",
     "output_type": "stream",
     "text": [
      "Accuracy: 0.990476\n",
      "Precision: 0.990476\n",
      "Recall: 0.990476\n",
      "F1: 0.990476\n"
     ]
    }
   ],
   "source": [
    "print('Accuracy: %f' % accuracy_score(iris_y_train_lda_pred, iris_y_train))\n",
    "print('Precision: %f' % precision_score(iris_y_train_lda_pred, iris_y_train, average=\"micro\"))\n",
    "print('Recall: %f' % recall_score(iris_y_train_lda_pred, iris_y_train, average=\"micro\"))\n",
    "print('F1: %f' % f1_score(iris_y_train_lda_pred, iris_y_train, average=\"micro\"))"
   ]
  },
  {
   "cell_type": "markdown",
   "id": "0e381c68",
   "metadata": {},
   "source": [
    "### Kernel PCA"
   ]
  },
  {
   "cell_type": "code",
   "execution_count": 72,
   "id": "77d6c485",
   "metadata": {},
   "outputs": [],
   "source": [
    "kpca = KernelPCA(n_components=2, kernel='sigmoid', gamma=1)\n",
    "iris_x_train_kpca = kpca.fit_transform(iris_x_train_std)\n",
    "iris_x_test_kpca = kpca.transform(iris_x_test_std)"
   ]
  },
  {
   "cell_type": "code",
   "execution_count": 73,
   "id": "660a6537",
   "metadata": {},
   "outputs": [
    {
     "name": "stdout",
     "output_type": "stream",
     "text": [
      "Running time:  0.00549769401550293 seconds \n"
     ]
    }
   ],
   "source": [
    "start_time = time.time()\n",
    "tree_model = DecisionTreeClassifier(criterion='gini', max_depth=4, random_state=1)\n",
    "tree_model.fit(iris_x_train_kpca, iris_y_train)\n",
    "print(\"Running time:  %s seconds \" % (time.time() - start_time))\n",
    "# Predict the test dataset by decision tree model\n",
    "iris_y_kpca_pred = tree_model.predict(iris_x_test_kpca)\n",
    "# Predict the train dataset by decision tree model\n",
    "iris_y_train_kpca_pred = tree_model.predict(iris_x_train_kpca)"
   ]
  },
  {
   "cell_type": "code",
   "execution_count": 74,
   "id": "df680482",
   "metadata": {},
   "outputs": [
    {
     "name": "stdout",
     "output_type": "stream",
     "text": [
      "Accuracy: 0.911111\n",
      "Precision: 0.911111\n",
      "Recall: 0.911111\n",
      "F1: 0.911111\n"
     ]
    }
   ],
   "source": [
    "print('Accuracy: %f' % accuracy_score(iris_y_kpca_pred, iris_y_test))\n",
    "print('Precision: %f' % precision_score(iris_y_kpca_pred, iris_y_test, average=\"micro\"))\n",
    "print('Recall: %f' % recall_score(iris_y_kpca_pred, iris_y_test, average=\"micro\"))\n",
    "print('F1: %f' % f1_score(iris_y_kpca_pred, iris_y_test, average=\"micro\"))"
   ]
  },
  {
   "cell_type": "code",
   "execution_count": 75,
   "id": "c07ea55f",
   "metadata": {},
   "outputs": [
    {
     "name": "stdout",
     "output_type": "stream",
     "text": [
      "Accuracy: 0.971429\n",
      "Precision: 0.971429\n",
      "Recall: 0.971429\n",
      "F1: 0.971429\n"
     ]
    }
   ],
   "source": [
    "print('Accuracy: %f' % accuracy_score(iris_y_train_kpca_pred, iris_y_train))\n",
    "print('Precision: %f' % precision_score(iris_y_train_kpca_pred, iris_y_train, average=\"micro\"))\n",
    "print('Recall: %f' % recall_score(iris_y_train_kpca_pred, iris_y_train, average=\"micro\"))\n",
    "print('F1: %f' % f1_score(iris_y_train_kpca_pred, iris_y_train, average=\"micro\"))"
   ]
  },
  {
   "cell_type": "markdown",
   "id": "2bb4586e",
   "metadata": {},
   "source": [
    "### Analysis the different dimensionality reduction techniques on decision tree classifier for IRIS data"
   ]
  },
  {
   "cell_type": "markdown",
   "id": "8f69cc64",
   "metadata": {},
   "source": [
    "Three different methods are applied for reducing dimensionality on IRIS data. Firstly, a decision tree classification is applied for the original data which has 4 features. Then, the performance of these techniques is analyzed by feeding the dimension reduced data to a decision tree classifier.\n",
    "\n",
    "The running time of the decision tree classifier on the original data is about 0.008 seconds and the accuracy on test and train datasets is approximately 97%.\n",
    "\n",
    "The original data which has 4 dimensions converts to 3 dimensions with the help of PCA. In this method, the running time is 0.006 seconds, which is less than the previous method due to dimensionality reduction. This technique leads to losing some of the variance (information). The accuracy for the training dataset is as same as the previous method (97%) while the accuracy on testing data is increased and reached 99%. Precision, recall, and f1 also have the same values.\n",
    "\n",
    "The next method is LDA, which reduces dimensionality on 1 dimension with 95% accuracy (precision, recall, and f1) on the test dataset and 99% accuracy (precision, recall, and f1) on the training dataset. The running time is 0.004 seconds. Here, the dimension is one and less than the previous method so the running time is faster but the accuracy on the training dataset is the same as PCA but better than applying a decision tree on the original dataset. The accuracy of test data is a little less than the two previous methods.\n",
    "\n",
    "The last method is KPCA, which has 2 components and the kernel is 'sigmoid' with gamma=1. The running time is 0.005 seconds and the accuracy (precision, recall, and f1) on test and train datasets is 91% and 97%, respectively. Here, the accuracy, precision, recall, and f1 are less than the previous methods. This technique is a non-linear dimensionality reduction that reduces 4-dimensional data into 2 dimensions.\n",
    " \n",
    "All of these techniques are tuned to have better accuracy, precision, recall, and f1."
   ]
  },
  {
   "cell_type": "markdown",
   "id": "f9dace65",
   "metadata": {},
   "source": [
    "### Import MNIST data and extract a subset "
   ]
  },
  {
   "cell_type": "code",
   "execution_count": 76,
   "id": "f61c3c83",
   "metadata": {},
   "outputs": [
    {
     "name": "stdout",
     "output_type": "stream",
     "text": [
      "(1400, 784)\n"
     ]
    }
   ],
   "source": [
    "X, Y = fetch_openml('mnist_784', version=1, return_X_y=True, as_frame=False)\n",
    "# Extract the subset of MNISt data to avoid memory problem\n",
    "X_train, mnist_x, y_train, mnist_y = train_test_split(X, Y, test_size=0.02, random_state=1, stratify=Y)\n",
    "print(np.shape(mnist_x))\n",
    "# Split data to train and test datasets\n",
    "mnist_x_train, mnist_x_test, mnist_y_train, mnist_y_test = train_test_split(mnist_x, mnist_y, test_size=0.3, random_state=1, stratify=mnist_y)"
   ]
  },
  {
   "cell_type": "markdown",
   "id": "5a57cfa1",
   "metadata": {},
   "source": [
    "### Standardize the datasets"
   ]
  },
  {
   "cell_type": "code",
   "execution_count": 77,
   "id": "3c77d145",
   "metadata": {},
   "outputs": [],
   "source": [
    "sc1 = StandardScaler()\n",
    "sc1.fit(mnist_x_train)\n",
    "mnist_x_train_std = sc1.transform(mnist_x_train)\n",
    "mnist_x_test_std = sc1.transform(mnist_x_test)"
   ]
  },
  {
   "cell_type": "markdown",
   "id": "a611f455",
   "metadata": {},
   "source": [
    "### Apply decision tree on data without any reduction in dimensionality"
   ]
  },
  {
   "cell_type": "code",
   "execution_count": 78,
   "id": "b19010fb",
   "metadata": {},
   "outputs": [
    {
     "name": "stdout",
     "output_type": "stream",
     "text": [
      "Running time:  0.5965995788574219 seconds \n"
     ]
    }
   ],
   "source": [
    "start_time = time.time()\n",
    "tree_model = DecisionTreeClassifier(criterion='entropy', max_depth=10, random_state=1)\n",
    "tree_model.fit(mnist_x_train_std, mnist_y_train)\n",
    "print(\"Running time:  %s seconds \" % (time.time() - start_time))\n",
    "# Predict the test dataset by decision tree model\n",
    "mnist_y_pred = tree_model.predict(mnist_x_test_std)\n",
    "# Predict the train dataset by decision tree model\n",
    "mnist_y_train_pred = tree_model.predict(mnist_x_train_std)"
   ]
  },
  {
   "cell_type": "code",
   "execution_count": 79,
   "id": "a6363bfe",
   "metadata": {},
   "outputs": [
    {
     "name": "stdout",
     "output_type": "stream",
     "text": [
      "Accuracy: 0.695238\n",
      "Precision: 0.695238\n",
      "Recall: 0.695238\n",
      "F1: 0.695238\n"
     ]
    }
   ],
   "source": [
    "print('Accuracy: %f' % accuracy_score(mnist_y_pred, mnist_y_test))\n",
    "print('Precision: %f' % precision_score(mnist_y_pred, mnist_y_test, average=\"micro\"))\n",
    "print('Recall: %f' % recall_score(mnist_y_pred, mnist_y_test, average=\"micro\"))\n",
    "print('F1: %f' % f1_score(mnist_y_pred, mnist_y_test, average=\"micro\"))"
   ]
  },
  {
   "cell_type": "code",
   "execution_count": 80,
   "id": "3545409b",
   "metadata": {},
   "outputs": [
    {
     "name": "stdout",
     "output_type": "stream",
     "text": [
      "Accuracy: 1.000000\n",
      "Precision: 1.000000\n",
      "Recall: 1.000000\n",
      "F1: 1.000000\n"
     ]
    }
   ],
   "source": [
    "print('Accuracy: %f' % accuracy_score(mnist_y_train_pred, mnist_y_train))\n",
    "print('Precision: %f' % precision_score(mnist_y_train_pred, mnist_y_train, average=\"micro\"))\n",
    "print('Recall: %f' % recall_score(mnist_y_train_pred, mnist_y_train, average=\"micro\"))\n",
    "print('F1: %f' % f1_score(mnist_y_train_pred, mnist_y_train, average=\"micro\"))"
   ]
  },
  {
   "cell_type": "markdown",
   "id": "3b2cf922",
   "metadata": {},
   "source": [
    "### Principal Component Analysis (PCA)"
   ]
  },
  {
   "cell_type": "code",
   "execution_count": 81,
   "id": "69810a05",
   "metadata": {},
   "outputs": [],
   "source": [
    "pca1 = PCA(n_components=50)\n",
    "mnist_x_train_pca = pca1.fit_transform(mnist_x_train_std)\n",
    "mnist_x_test_pca = pca1.transform(mnist_x_test_std)"
   ]
  },
  {
   "cell_type": "code",
   "execution_count": 82,
   "id": "0af3c949",
   "metadata": {},
   "outputs": [
    {
     "name": "stdout",
     "output_type": "stream",
     "text": [
      "Running time:  0.2814319133758545 seconds \n"
     ]
    }
   ],
   "source": [
    "start_time = time.time()\n",
    "tree_model = DecisionTreeClassifier(criterion='entropy', max_depth=10, random_state=1)\n",
    "tree_model.fit(mnist_x_train_pca, mnist_y_train)\n",
    "print(\"Running time:  %s seconds \" % (time.time() - start_time))\n",
    "# Predict the test dataset by decision tree model\n",
    "mnist_y_pca_pred = tree_model.predict(mnist_x_test_pca)\n",
    "# Predict the train dataset by decision tree model\n",
    "mnist_y_train_pca_pred = tree_model.predict(mnist_x_train_pca)"
   ]
  },
  {
   "cell_type": "code",
   "execution_count": 83,
   "id": "99277ffd",
   "metadata": {},
   "outputs": [
    {
     "name": "stdout",
     "output_type": "stream",
     "text": [
      "Accuracy: 0.714286\n",
      "Precision: 0.714286\n",
      "Recall: 0.714286\n",
      "F1: 0.714286\n"
     ]
    }
   ],
   "source": [
    "print('Accuracy: %f' % accuracy_score(mnist_y_pca_pred, mnist_y_test))\n",
    "print('Precision: %f' % precision_score(mnist_y_pca_pred, mnist_y_test, average=\"micro\"))\n",
    "print('Recall: %f' % recall_score(mnist_y_pca_pred, mnist_y_test, average=\"micro\"))\n",
    "print('F1: %f' % f1_score(mnist_y_pca_pred, mnist_y_test, average=\"micro\"))"
   ]
  },
  {
   "cell_type": "code",
   "execution_count": 84,
   "id": "1bba7274",
   "metadata": {},
   "outputs": [
    {
     "name": "stdout",
     "output_type": "stream",
     "text": [
      "Accuracy: 1.000000\n",
      "Precision: 1.000000\n",
      "Recall: 1.000000\n",
      "F1: 1.000000\n"
     ]
    }
   ],
   "source": [
    "print('Accuracy: %f' % accuracy_score(mnist_y_train_pca_pred, mnist_y_train))\n",
    "print('Precision: %f' % precision_score(mnist_y_train_pca_pred, mnist_y_train, average=\"micro\"))\n",
    "print('Recall: %f' % recall_score(mnist_y_train_pca_pred, mnist_y_train, average=\"micro\"))\n",
    "print('F1: %f' % f1_score(mnist_y_train_pca_pred, mnist_y_train, average=\"micro\"))"
   ]
  },
  {
   "cell_type": "markdown",
   "id": "8673463c",
   "metadata": {},
   "source": [
    "### Linear Discriminant Analysis"
   ]
  },
  {
   "cell_type": "code",
   "execution_count": 96,
   "id": "0be9c7ed",
   "metadata": {},
   "outputs": [],
   "source": [
    "lda1 = LDA(n_components=9)\n",
    "mnist_x_train_lda = lda1.fit_transform(mnist_x_train_std, mnist_y_train)\n",
    "mnist_x_test_lda = lda1.transform(mnist_x_test_std)"
   ]
  },
  {
   "cell_type": "code",
   "execution_count": 97,
   "id": "f4f05670",
   "metadata": {},
   "outputs": [
    {
     "name": "stdout",
     "output_type": "stream",
     "text": [
      "Running time:  0.025817155838012695 seconds \n"
     ]
    }
   ],
   "source": [
    "start_time = time.time()\n",
    "tree_model = DecisionTreeClassifier(criterion='entropy', max_depth=10, random_state=1)\n",
    "tree_model.fit(mnist_x_train_lda, mnist_y_train)\n",
    "print(\"Running time:  %s seconds \" % (time.time() - start_time))\n",
    "# Predict the test dataset by decision tree model\n",
    "mnist_y_lda_pred = tree_model.predict(mnist_x_test_lda)\n",
    "# Predict the train dataset by decision tree model\n",
    "mnist_y_train_lda_pred = tree_model.predict(mnist_x_train_lda)"
   ]
  },
  {
   "cell_type": "code",
   "execution_count": 98,
   "id": "729cf611",
   "metadata": {},
   "outputs": [
    {
     "name": "stdout",
     "output_type": "stream",
     "text": [
      "Accuracy: 0.502381\n",
      "Precision: 0.502381\n",
      "Recall: 0.502381\n",
      "F1: 0.502381\n"
     ]
    }
   ],
   "source": [
    "print('Accuracy: %f' % accuracy_score(mnist_y_lda_pred, mnist_y_test))\n",
    "print('Precision: %f' % precision_score(mnist_y_lda_pred, mnist_y_test, average=\"micro\"))\n",
    "print('Recall: %f' % recall_score(mnist_y_lda_pred, mnist_y_test, average=\"micro\"))\n",
    "print('F1: %f' % f1_score(mnist_y_lda_pred, mnist_y_test, average=\"micro\"))"
   ]
  },
  {
   "cell_type": "code",
   "execution_count": 99,
   "id": "7109a601",
   "metadata": {},
   "outputs": [
    {
     "name": "stdout",
     "output_type": "stream",
     "text": [
      "Accuracy: 1.000000\n",
      "Precision: 1.000000\n",
      "Recall: 1.000000\n",
      "F1: 1.000000\n"
     ]
    }
   ],
   "source": [
    "print('Accuracy: %f' % accuracy_score(mnist_y_train_lda_pred, mnist_y_train))\n",
    "print('Precision: %f' % precision_score(mnist_y_train_lda_pred, mnist_y_train, average=\"micro\"))\n",
    "print('Recall: %f' % recall_score(mnist_y_train_lda_pred, mnist_y_train, average=\"micro\"))\n",
    "print('F1: %f' % f1_score(mnist_y_train_lda_pred, mnist_y_train, average=\"micro\"))"
   ]
  },
  {
   "cell_type": "markdown",
   "id": "332e4dab",
   "metadata": {},
   "source": [
    "### Kernel PCA"
   ]
  },
  {
   "cell_type": "code",
   "execution_count": 100,
   "id": "0b9fdfea",
   "metadata": {},
   "outputs": [],
   "source": [
    "kpca1 = KernelPCA(n_components=9, kernel='sigmoid', gamma=20)\n",
    "mnist_x_train_kpca = kpca1.fit_transform(mnist_x_train_std)\n",
    "mnist_x_test_kpca = kpca1.transform(mnist_x_test_std)"
   ]
  },
  {
   "cell_type": "code",
   "execution_count": 101,
   "id": "a6ddfc60",
   "metadata": {},
   "outputs": [
    {
     "name": "stdout",
     "output_type": "stream",
     "text": [
      "Running time:  0.059204816818237305 seconds \n"
     ]
    }
   ],
   "source": [
    "start_time = time.time()\n",
    "tree_model = DecisionTreeClassifier(criterion='entropy', max_depth=10, random_state=1)\n",
    "tree_model.fit(mnist_x_train_kpca, mnist_y_train)\n",
    "print(\"Running time:  %s seconds \" % (time.time() - start_time))\n",
    "# Predict the test dataset by decision tree model\n",
    "mnist_y_kpca_pred = tree_model.predict(mnist_x_test_kpca)\n",
    "# Predict the train dataset by decision tree model\n",
    "mnist_y_train_kpca_pred = tree_model.predict(mnist_x_train_kpca)"
   ]
  },
  {
   "cell_type": "code",
   "execution_count": 102,
   "id": "1b04a3ec",
   "metadata": {},
   "outputs": [
    {
     "name": "stdout",
     "output_type": "stream",
     "text": [
      "Accuracy: 0.671429\n",
      "Precision: 0.671429\n",
      "Recall: 0.671429\n",
      "F1: 0.671429\n"
     ]
    }
   ],
   "source": [
    "print('Accuracy: %f' % accuracy_score(mnist_y_kpca_pred, mnist_y_test))\n",
    "print('Precision: %f' % precision_score(mnist_y_kpca_pred, mnist_y_test, average=\"micro\"))\n",
    "print('Recall: %f' % recall_score(mnist_y_kpca_pred, mnist_y_test, average=\"micro\"))\n",
    "print('F1: %f' % f1_score(mnist_y_kpca_pred, mnist_y_test, average=\"micro\"))"
   ]
  },
  {
   "cell_type": "code",
   "execution_count": 103,
   "id": "3e83e02f",
   "metadata": {},
   "outputs": [
    {
     "name": "stdout",
     "output_type": "stream",
     "text": [
      "Accuracy: 0.962245\n",
      "Precision: 0.962245\n",
      "Recall: 0.962245\n",
      "F1: 0.962245\n"
     ]
    }
   ],
   "source": [
    "print('Accuracy: %f' % accuracy_score(mnist_y_train_kpca_pred, mnist_y_train))\n",
    "print('Precision: %f' % precision_score(mnist_y_train_kpca_pred, mnist_y_train, average=\"micro\"))\n",
    "print('Recall: %f' % recall_score(mnist_y_train_kpca_pred, mnist_y_train, average=\"micro\"))\n",
    "print('F1: %f' % f1_score(mnist_y_train_kpca_pred, mnist_y_train, average=\"micro\"))"
   ]
  },
  {
   "cell_type": "markdown",
   "id": "4ef696cd",
   "metadata": {},
   "source": [
    "### Analysis the different dimensionality reduction techniques on decision tree classifier for MNIST data"
   ]
  },
  {
   "cell_type": "markdown",
   "id": "3ca45205",
   "metadata": {},
   "source": [
    "Here, the decision tree classifier is used on MNIST data in 4 different ways.\n",
    "\n",
    "The first method is applying DT on the original data which has 784 features.\n",
    "The running time is about 0.59 seconds. The accuracy on the test dataset is 69% and on the training dataset is 100%.\n",
    "\n",
    "The second method is reducing the data to 50 dimensions with the usage of PCA.\n",
    "The running time is about 0.28 seconds. The accuracy of test and training datasets is 71% and 100%, respectively. Here, by reducing the data space from 784 to 50, we reach the higher accuracy in the test dataset without losing accuracy in the training dataset.\n",
    "\n",
    "The third method is applying DT on reduced data with LDA which has 9 components.\n",
    "The running time is about 0.02 seconds. The accuracy on the test dataset is 50% and on the training dataset is 100%. Here, the accuracy for the test data is higher than the previous method but the running time is less than that. But it shows that this accuracy is reached considering 9 dimension space of data compared to 784 dimension space of the original data.\n",
    "\n",
    "The last method is using KPCA for reducing the dimensions of data into 9 and then applying DT.\n",
    "The running time is about 0.05 seconds. The accuracy of test and training datasets is 67% and 96%, respectively. Here, we reach good accuracy for the test dataset by using the reduced data which is converted to the 9 dimensions space.\n",
    "\n",
    "The advantage of reducing dimensionality of data is significant when the data is too big. Here, for solvinh the memory problem, the subset of MNIST data is used. The command of train-test-split is used to obtain the subest of data which has 1400 instances. This data originally has 784 features.\n",
    "\n",
    "The comparison of these dimensionality reduction methods shows that the running time has a direct relationship to number of dimensions in the reduced space. It means, if we convert the dimensions of original features to less dimentional space, the running time is reduced more.\n",
    "\n",
    "LDA focuses on finding a feature subspace that maximizes the separability between the groups. While Principal component analysis is an unsupervised dimensionality reduction technique, it ignores the class label. PCA focuses on capturing the direction of maximum variation in the data set.\n",
    "\n",
    "Both LDA and PCA are linear transformation techniques. LDA is a supervised whereas PCA is unsupervised, PCA ignores class labels. PCA is a technique that finds the directions of maximal variance. In contrast to PCA, LDA attempts to find a feature subspace that maximizes class separability. It means, the disparity between the data groups is modeled by the LDA, while the PCA does not detect such a disparity between groups. The factor analysis in PCA constructs the combinations of features based on disparities rather than similarities in LDA. As in LDA, the discriminant analysis is different from the factor analysis conducted in PCA where eigenvalues, eigenvectors, and covariance matrices are used. In addition, the number of components of LDA are limited to the number of class -1 but the maximun number of components in PCA is the number of features. Thus, fo MNIST dataset, the number of components in LDA is much less than the PCA. Kernel PCA is a non-linear transformation technique that using the kernel method."
   ]
  }
 ],
 "metadata": {
  "kernelspec": {
   "display_name": "Python 3 (ipykernel)",
   "language": "python",
   "name": "python3"
  },
  "language_info": {
   "codemirror_mode": {
    "name": "ipython",
    "version": 3
   },
   "file_extension": ".py",
   "mimetype": "text/x-python",
   "name": "python",
   "nbconvert_exporter": "python",
   "pygments_lexer": "ipython3",
   "version": "3.9.12"
  }
 },
 "nbformat": 4,
 "nbformat_minor": 5
}
