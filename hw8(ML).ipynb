{
 "cells": [
  {
   "cell_type": "code",
   "execution_count": 1,
   "id": "0fe58be6",
   "metadata": {},
   "outputs": [],
   "source": [
    "import torch\n",
    "import torchvision\n",
    "import torchvision.datasets as datasets\n",
    "from torchvision import transforms\n",
    "from torch.utils.data import Subset\n",
    "from torch.utils.data import DataLoader\n",
    "import torch.nn as nn"
   ]
  },
  {
   "cell_type": "code",
   "execution_count": 2,
   "id": "6dc9ac3f",
   "metadata": {},
   "outputs": [],
   "source": [
    "transform = transforms.Compose([transforms.ToTensor()])\n",
    "mnist_dataset  = datasets.MNIST(root='./data', train=True, download=True, transform=transform)"
   ]
  },
  {
   "cell_type": "code",
   "execution_count": 3,
   "id": "0da30255",
   "metadata": {},
   "outputs": [
    {
     "name": "stdout",
     "output_type": "stream",
     "text": [
      "number of items in mnist_dataset: 60000\n",
      "number of items in mnist_train_dataset: 50000\n",
      "number of items in mnist_valid_dataset: 10000\n",
      "number of items in mnist_test_dataset: 10000\n"
     ]
    }
   ],
   "source": [
    "mnist_valid_dataset = Subset(mnist_dataset,torch.arange(10000))\n",
    "mnist_train_dataset = Subset(mnist_dataset,torch.arange(10000, len(mnist_dataset)))\n",
    "mnist_test_dataset = torchvision.datasets.MNIST(root='./data', train=False,transform=transform, download=False)\n",
    "print('number of items in mnist_dataset:', len(mnist_dataset))\n",
    "print('number of items in mnist_train_dataset:', len(mnist_train_dataset))\n",
    "print('number of items in mnist_valid_dataset:', len(mnist_valid_dataset))\n",
    "print('number of items in mnist_test_dataset:', len(mnist_test_dataset))"
   ]
  },
  {
   "cell_type": "code",
   "execution_count": 89,
   "id": "754798c9",
   "metadata": {},
   "outputs": [],
   "source": [
    "batch_size = 64\n",
    "torch.manual_seed(1)\n",
    "train_dl = DataLoader(mnist_train_dataset, batch_size, shuffle=True)\n",
    "valid_dl = DataLoader(mnist_valid_dataset, batch_size, shuffle=False)"
   ]
  },
  {
   "cell_type": "code",
   "execution_count": 98,
   "id": "d9181fc2",
   "metadata": {},
   "outputs": [
    {
     "name": "stdout",
     "output_type": "stream",
     "text": [
      "torch.Size([4, 128])\n"
     ]
    }
   ],
   "source": [
    "model = nn.Sequential()\n",
    "\n",
    "\n",
    "#model.add_module('conv1', nn.Conv2d(in_channels=1, out_channels=24, kernel_size=3, stride=1, padding='valid'))\n",
    "model.add_module('conv1', nn.Conv2d(in_channels=1, out_channels=24, kernel_size=3, stride=1, padding='valid'))\n",
    "#model.add_module('conv1', nn.Conv2d(in_channels=1, out_channels=4, kernel_size=3, stride=1, padding='valid'))\n",
    "#model.add_module('relu1', nn.ReLU())\n",
    "model.add_module('leakyrelu1', nn.LeakyReLU())\n",
    "\n",
    "#model.add_module('pool1', nn.MaxPool2d(kernel_size=2, stride=2))\n",
    "model.add_module('pool1', nn.AvgPool2d(kernel_size=2, stride=2))\n",
    "\n",
    "\n",
    "#model.add_module('conv2', nn.Conv2d(in_channels=24, out_channels=32, kernel_size=3, stride=3, padding='valid'))\n",
    "model.add_module('conv2', nn.Conv2d(in_channels=24, out_channels=32, kernel_size=3, stride=3, padding='valid'))\n",
    "#model.add_module('conv2', nn.Conv2d(in_channels=4, out_channels=2, kernel_size=3, stride=3, padding='valid'))\n",
    "#model.add_module('relu2', nn.ReLU())\n",
    "model.add_module('leakyrelu2', nn.LeakyReLU())\n",
    "\n",
    "#model.add_module('pool2', nn.MaxPool2d(kernel_size=4, stride=4))\n",
    "model.add_module('pool2', nn.AvgPool2d(kernel_size=2, stride=2))\n",
    "\n",
    "model.add_module('flatten', nn.Flatten())\n",
    "x = torch.ones((4, 1, 28, 28))\n",
    "print(model(x).shape)\n",
    "model.add_module('fc1', nn.Linear(128, 10))\n",
    "#model.add_module('fc1', nn.Linear(2, 10))\n",
    "#model.add_module('fc1', nn.Linear(8, 10))\n"
   ]
  },
  {
   "cell_type": "code",
   "execution_count": 99,
   "id": "804fb40a",
   "metadata": {},
   "outputs": [],
   "source": [
    "def train(model, num_epochs, train_dl, valid_dl): \n",
    "    loss_hist_train = [0] * num_epochs\n",
    "    accuracy_hist_train = [0] * num_epochs\n",
    "    loss_hist_valid = [0] * num_epochs\n",
    "    accuracy_hist_valid = [0] * num_epochs\n",
    "    train_accu = []\n",
    "    train_losses = []\n",
    "    valid_accu = []\n",
    "    valid_losses = []\n",
    "    for epoch in range(num_epochs):\n",
    "        total = 0\n",
    "        correct = 0 \n",
    "        running_loss = 0\n",
    "        total_v = 0\n",
    "        correct_v = 0 \n",
    "        running_loss_v = 0\n",
    "\n",
    "        model.train()\n",
    "        for x_batch, y_batch in train_dl:\n",
    "            pred = model(x_batch)\n",
    "            loss = loss_fn(pred, y_batch)\n",
    "            loss.backward()\n",
    "            optimizer.step()\n",
    "            optimizer.zero_grad()\n",
    "\n",
    "            running_loss += loss.item()\n",
    "            _, predicted = pred.max(1)\n",
    "            total += y_batch.size(0)\n",
    "            correct += predicted.eq(y_batch).sum().item()\n",
    "       \n",
    "        train_loss=running_loss/len(train_dl)\n",
    "        accu=100.*correct/total\n",
    "        print(accu)\n",
    "        train_accu.append(accu)\n",
    "        train_losses.append(train_loss)\n",
    "\n",
    "        model.eval()\n",
    "        with torch.no_grad():\n",
    "            for x_batch, y_batch in valid_dl:\n",
    "                pred = model(x_batch)\n",
    "                loss = loss_fn(pred, y_batch)\n",
    "                \n",
    "                \n",
    "                running_loss_v += loss.item()\n",
    "                _, preds_v = pred.max(1)\n",
    "                total_v += y_batch.size(0)\n",
    "                correct_v += preds_v.eq(y_batch).sum().item()\n",
    "       \n",
    "        valid_loss=running_loss_v/len(valid_dl)\n",
    "        accu_v=100.*correct_v/total_v\n",
    "        valid_accu.append(accu_v)\n",
    "        valid_losses.append(valid_loss)\n",
    "\n",
    "    return train_accu, train_losses, valid_accu, valid_losses"
   ]
  },
  {
   "cell_type": "code",
   "execution_count": 100,
   "id": "cf69c779",
   "metadata": {},
   "outputs": [
    {
     "name": "stdout",
     "output_type": "stream",
     "text": [
      "72.776\n",
      "90.974\n",
      "93.318\n",
      "94.182\n",
      "94.918\n",
      "95.162\n",
      "95.456\n",
      "95.722\n",
      "95.97\n",
      "96.22\n"
     ]
    }
   ],
   "source": [
    "torch.manual_seed(1)\n",
    "num_epochs = 10\n",
    "loss_fn = nn.CrossEntropyLoss()\n",
    "optimizer = torch.optim.Adam(model.parameters(), lr=0.001)\n",
    "[train_accu, train_losses, valid_accu, valid_losses] = train(model, num_epochs, train_dl, valid_dl)"
   ]
  },
  {
   "cell_type": "code",
   "execution_count": 101,
   "id": "d25a6bf5",
   "metadata": {},
   "outputs": [
    {
     "name": "stdout",
     "output_type": "stream",
     "text": [
      "[72.776, 90.974, 93.318, 94.182, 94.918, 95.162, 95.456, 95.722, 95.97, 96.22]\n"
     ]
    }
   ],
   "source": [
    "print(train_accu)"
   ]
  },
  {
   "cell_type": "code",
   "execution_count": 102,
   "id": "4f77a3d6",
   "metadata": {},
   "outputs": [
    {
     "name": "stdout",
     "output_type": "stream",
     "text": [
      "[0.889365501130176, 0.3163612444058556, 0.22905718373215717, 0.19577752809752436, 0.17450618132701157, 0.16037031278357178, 0.14891427335427013, 0.14058591085760033, 0.13358520009957464, 0.12524385402060073]\n"
     ]
    }
   ],
   "source": [
    "print(train_losses)"
   ]
  },
  {
   "cell_type": "code",
   "execution_count": 103,
   "id": "0855b348",
   "metadata": {},
   "outputs": [
    {
     "name": "stdout",
     "output_type": "stream",
     "text": [
      "[88.9, 91.33, 93.74, 94.06, 94.55, 95.16, 95.6, 95.55, 95.62, 95.66]\n"
     ]
    }
   ],
   "source": [
    "print(valid_accu)"
   ]
  },
  {
   "cell_type": "code",
   "execution_count": 104,
   "id": "d39014d9",
   "metadata": {},
   "outputs": [
    {
     "name": "stdout",
     "output_type": "stream",
     "text": [
      "[0.40193325523168416, 0.2906796770751666, 0.21351555528439534, 0.18934371968387229, 0.1767588679079607, 0.16165880473318753, 0.15113910555151427, 0.1535018594567753, 0.14398400072649026, 0.1522257595388278]\n"
     ]
    }
   ],
   "source": [
    "print(valid_losses)"
   ]
  },
  {
   "cell_type": "code",
   "execution_count": 109,
   "id": "d88d0586",
   "metadata": {},
   "outputs": [
    {
     "data": {
      "text/plain": [
       "<matplotlib.legend.Legend at 0x29e99287730>"
      ]
     },
     "execution_count": 109,
     "metadata": {},
     "output_type": "execute_result"
    },
    {
     "data": {
      "image/png": "[encoded data removed]",
      "text/plain": [
       "<Figure size 432x288 with 1 Axes>"
      ]
     },
     "metadata": {
      "needs_background": "light"
     },
     "output_type": "display_data"
    }
   ],
   "source": [
    "import matplotlib.pyplot as plt\n",
    "plt.plot(range(10), train_losses, label = \"Training data\")\n",
    "plt.plot(range(10), valid_losses, label = \"Validation data\")\n",
    "plt.ylabel(\"Loss\")\n",
    "plt.xlabel(\"Epoch\")\n",
    "plt.legend()"
   ]
  },
  {
   "cell_type": "code",
   "execution_count": 111,
   "id": "e0b11b45",
   "metadata": {},
   "outputs": [
    {
     "data": {
      "text/plain": [
       "<matplotlib.legend.Legend at 0x29e9925c040>"
      ]
     },
     "execution_count": 111,
     "metadata": {},
     "output_type": "execute_result"
    },
    {
     "data": {
      "image/png": "[encoded data removed]",
      "text/plain": [
       "<Figure size 432x288 with 1 Axes>"
      ]
     },
     "metadata": {
      "needs_background": "light"
     },
     "output_type": "display_data"
    }
   ],
   "source": [
    "import matplotlib.pyplot as plt\n",
    "plt.plot(range(10), train_accu, label = \"Training data\")\n",
    "plt.plot(range(10), valid_accu, label = \"Validation data\")\n",
    "plt.ylabel(\"Accuracy\")\n",
    "plt.xlabel(\"Epoch\")\n",
    "plt.legend()"
   ]
  },
  {
   "cell_type": "code",
   "execution_count": null,
   "id": "e5a32092",
   "metadata": {},
   "outputs": [],
   "source": []
  }
 ],
 "metadata": {
  "kernelspec": {
   "display_name": "Python 3 (ipykernel)",
   "language": "python",
   "name": "python3"
  },
  "language_info": {
   "codemirror_mode": {
    "name": "ipython",
    "version": 3
   },
   "file_extension": ".py",
   "mimetype": "text/x-python",
   "name": "python",
   "nbconvert_exporter": "python",
   "pygments_lexer": "ipython3",
   "version": "3.9.7"
  }
 },
 "nbformat": 4,
 "nbformat_minor": 5
}
