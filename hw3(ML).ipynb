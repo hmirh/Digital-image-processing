{
 "cells": [
  {
   "cell_type": "code",
   "execution_count": 1,
   "id": "3369a38e",
   "metadata": {},
   "outputs": [],
   "source": [
    "from sklearn import datasets\n",
    "from sklearn.model_selection import train_test_split\n",
    "from sklearn.preprocessing import StandardScaler\n",
    "from sklearn.metrics import classification_report, mean_squared_error, accuracy_score\n",
    "import matplotlib.pyplot as plt\n",
    "import pandas as pd\n",
    "import time\n",
    "from sklearn.model_selection import GridSearchCV\n",
    "import matplotlib.pyplot as plt\n",
    "import numpy as np"
   ]
  },
  {
   "cell_type": "markdown",
   "id": "2272b647",
   "metadata": {},
   "source": [
    "## Load dataset"
   ]
  },
  {
   "cell_type": "markdown",
   "id": "77fc4d67",
   "metadata": {},
   "source": [
    "Digit Dataset"
   ]
  },
  {
   "cell_type": "code",
   "execution_count": 2,
   "id": "7415b56f",
   "metadata": {},
   "outputs": [],
   "source": [
    "X, y = datasets.load_digits(return_X_y=True)"
   ]
  },
  {
   "cell_type": "markdown",
   "id": "93c349ed",
   "metadata": {},
   "source": [
    "## Prepare data for traning"
   ]
  },
  {
   "cell_type": "markdown",
   "id": "21eea491",
   "metadata": {},
   "source": [
    "Split data (Usually 30% of data are allocated for test)"
   ]
  },
  {
   "cell_type": "code",
   "execution_count": 3,
   "id": "09d3f698",
   "metadata": {},
   "outputs": [],
   "source": [
    "X_train, X_test, y_train, y_test = train_test_split(X, y, test_size=0.3, random_state=1, stratify=y)"
   ]
  },
  {
   "cell_type": "markdown",
   "id": "e1835a21",
   "metadata": {},
   "source": [
    "Standardize data"
   ]
  },
  {
   "cell_type": "code",
   "execution_count": 4,
   "id": "74f3d7ed",
   "metadata": {},
   "outputs": [],
   "source": [
    "sc = StandardScaler()"
   ]
  },
  {
   "cell_type": "markdown",
   "id": "9fb5aee6",
   "metadata": {},
   "source": [
    "Compute the mean and standard deviation of data"
   ]
  },
  {
   "cell_type": "code",
   "execution_count": 5,
   "id": "f5c9a676",
   "metadata": {},
   "outputs": [
    {
     "data": {
      "text/plain": [
       "StandardScaler()"
      ]
     },
     "execution_count": 5,
     "metadata": {},
     "output_type": "execute_result"
    }
   ],
   "source": [
    "sc.fit(X_train)"
   ]
  },
  {
   "cell_type": "markdown",
   "id": "723b3c00",
   "metadata": {},
   "source": [
    "Perform standardization"
   ]
  },
  {
   "cell_type": "code",
   "execution_count": 6,
   "id": "d61c9eb8",
   "metadata": {},
   "outputs": [],
   "source": [
    "X_train_std = sc.transform(X_train)\n",
    "X_test_std = sc.transform(X_test)"
   ]
  },
  {
   "cell_type": "markdown",
   "id": "9858811c",
   "metadata": {},
   "source": [
    "## Perceptron classification"
   ]
  },
  {
   "cell_type": "code",
   "execution_count": 7,
   "id": "3664b8d7",
   "metadata": {},
   "outputs": [],
   "source": [
    "from sklearn.linear_model import Perceptron"
   ]
  },
  {
   "cell_type": "code",
   "execution_count": 8,
   "id": "2040e1a4",
   "metadata": {},
   "outputs": [
    {
     "name": "stdout",
     "output_type": "stream",
     "text": [
      "Running time:  0.018477678298950195 seconds \n"
     ]
    }
   ],
   "source": [
    "start_time = time.time()\n",
    "p = Perceptron(max_iter=100, eta0=0.01, random_state=1)\n",
    "p.fit(X_train_std, y_train)\n",
    "print(\"Running time:  %s seconds \" % (time.time() - start_time))"
   ]
  },
  {
   "cell_type": "markdown",
   "id": "2021fc04",
   "metadata": {},
   "source": [
    "Predict the test dataset"
   ]
  },
  {
   "cell_type": "code",
   "execution_count": 9,
   "id": "85c8b2e8",
   "metadata": {
    "scrolled": true
   },
   "outputs": [
    {
     "name": "stdout",
     "output_type": "stream",
     "text": [
      "              precision    recall  f1-score   support\n",
      "\n",
      "           0       0.92      1.00      0.96        54\n",
      "           1       0.91      0.89      0.90        55\n",
      "           2       0.96      0.96      0.96        53\n",
      "           3       0.98      0.91      0.94        55\n",
      "           4       0.93      0.96      0.95        54\n",
      "           5       0.89      0.91      0.90        55\n",
      "           6       0.96      0.96      0.96        54\n",
      "           7       0.98      0.93      0.95        54\n",
      "           8       0.92      0.88      0.90        52\n",
      "           9       0.91      0.94      0.93        54\n",
      "\n",
      "    accuracy                           0.94       540\n",
      "   macro avg       0.94      0.94      0.94       540\n",
      "weighted avg       0.94      0.94      0.94       540\n",
      "\n",
      "Accuracy: 0.94\n",
      "MSE: 1.44\n"
     ]
    }
   ],
   "source": [
    "yp_p = p.predict(X_test_std)\n",
    "print(classification_report(y_test, yp_p))\n",
    "print('Accuracy: %.2f' % accuracy_score(y_test, yp_p))\n",
    "print('MSE: %.2f' % mean_squared_error(y_test, yp_p))"
   ]
  },
  {
   "cell_type": "markdown",
   "id": "087788bf",
   "metadata": {},
   "source": [
    "## Linear SVM classification"
   ]
  },
  {
   "cell_type": "code",
   "execution_count": 10,
   "id": "d0585f14",
   "metadata": {},
   "outputs": [],
   "source": [
    "from sklearn.svm import SVC"
   ]
  },
  {
   "cell_type": "code",
   "execution_count": 11,
   "id": "7ca330af",
   "metadata": {},
   "outputs": [
    {
     "name": "stdout",
     "output_type": "stream",
     "text": [
      " Running time: 0.030421733856201172 seconds \n",
      "              precision    recall  f1-score   support\n",
      "\n",
      "           0       1.00      1.00      1.00        54\n",
      "           1       0.92      1.00      0.96        55\n",
      "           2       1.00      1.00      1.00        53\n",
      "           3       1.00      0.96      0.98        55\n",
      "           4       1.00      1.00      1.00        54\n",
      "           5       0.96      0.96      0.96        55\n",
      "           6       0.98      1.00      0.99        54\n",
      "           7       0.98      0.98      0.98        54\n",
      "           8       0.96      0.88      0.92        52\n",
      "           9       0.98      0.98      0.98        54\n",
      "\n",
      "    accuracy                           0.98       540\n",
      "   macro avg       0.98      0.98      0.98       540\n",
      "weighted avg       0.98      0.98      0.98       540\n",
      "\n",
      "Accuracy: 0.98\n",
      "MSE: 0.57\n"
     ]
    }
   ],
   "source": [
    "start_time = time.time()\n",
    "svm_l = SVC(kernel='linear', C=1.0, random_state=1)\n",
    "svm_l.fit(X_train_std, y_train)\n",
    "print(\" Running time: %s seconds \" % (time.time() - start_time))\n",
    "# Predict the test dataset\n",
    "yp_svm_l = svm_l.predict(X_test_std)\n",
    "print(classification_report(y_test, yp_svm_l))\n",
    "print('Accuracy: %.2f' % accuracy_score(y_test, yp_svm_l))\n",
    "print('MSE: %.2f' % mean_squared_error(y_test, yp_svm_l))"
   ]
  },
  {
   "cell_type": "markdown",
   "id": "f4f5bb7b",
   "metadata": {},
   "source": [
    "## Non-linear SVM classification"
   ]
  },
  {
   "cell_type": "code",
   "execution_count": 12,
   "id": "70b49309",
   "metadata": {},
   "outputs": [],
   "source": [
    "from sklearn.svm import SVC"
   ]
  },
  {
   "cell_type": "code",
   "execution_count": 13,
   "id": "098234cc",
   "metadata": {},
   "outputs": [
    {
     "name": "stdout",
     "output_type": "stream",
     "text": [
      " Running time: 0.038684844970703125 seconds \n"
     ]
    }
   ],
   "source": [
    "start_time = time.time()\n",
    "svm_n = SVC(kernel='rbf', C=10, gamma=0.01, random_state=1)\n",
    "svm_n.fit(X_train_std, y_train)\n",
    "print(\" Running time: %s seconds \" % (time.time() - start_time))"
   ]
  },
  {
   "cell_type": "markdown",
   "id": "46566292",
   "metadata": {},
   "source": [
    "Predict the test dataset"
   ]
  },
  {
   "cell_type": "code",
   "execution_count": 14,
   "id": "d18120f6",
   "metadata": {},
   "outputs": [
    {
     "name": "stdout",
     "output_type": "stream",
     "text": [
      "              precision    recall  f1-score   support\n",
      "\n",
      "           0       1.00      1.00      1.00        54\n",
      "           1       0.96      1.00      0.98        55\n",
      "           2       0.98      1.00      0.99        53\n",
      "           3       1.00      0.96      0.98        55\n",
      "           4       1.00      1.00      1.00        54\n",
      "           5       0.96      0.95      0.95        55\n",
      "           6       0.98      1.00      0.99        54\n",
      "           7       0.98      1.00      0.99        54\n",
      "           8       1.00      0.94      0.97        52\n",
      "           9       0.96      0.98      0.97        54\n",
      "\n",
      "    accuracy                           0.98       540\n",
      "   macro avg       0.98      0.98      0.98       540\n",
      "weighted avg       0.98      0.98      0.98       540\n",
      "\n",
      "Accuracy: 0.98\n",
      "Accuracy: 0.28\n"
     ]
    }
   ],
   "source": [
    "yp_svm_n = svm_n.predict(X_test_std)\n",
    "print(classification_report(y_test, yp_svm_n))\n",
    "print('Accuracy: %.2f' % accuracy_score(y_test, yp_svm_n))\n",
    "print('Accuracy: %.2f' % mean_squared_error(y_test, yp_svm_n))"
   ]
  },
  {
   "cell_type": "markdown",
   "id": "047258dd",
   "metadata": {},
   "source": [
    "## Decision tree classification"
   ]
  },
  {
   "cell_type": "code",
   "execution_count": 15,
   "id": "a8a62394",
   "metadata": {},
   "outputs": [],
   "source": [
    "from sklearn import tree\n",
    "from sklearn.tree import DecisionTreeClassifier"
   ]
  },
  {
   "cell_type": "code",
   "execution_count": 16,
   "id": "b89f3327",
   "metadata": {},
   "outputs": [
    {
     "name": "stdout",
     "output_type": "stream",
     "text": [
      " Running time: 0.041646480560302734 seconds \n"
     ]
    }
   ],
   "source": [
    "start_time = time.time()\n",
    "tree_model = DecisionTreeClassifier(criterion='entropy', max_depth=10, random_state=1)\n",
    "tree_model.fit(X_train, y_train)\n",
    "print(\" Running time: %s seconds \" % (time.time() - start_time))"
   ]
  },
  {
   "cell_type": "markdown",
   "id": "00d7ace6",
   "metadata": {},
   "source": [
    "Plot the decision tree model"
   ]
  },
  {
   "cell_type": "code",
   "execution_count": 17,
   "id": "94746922",
   "metadata": {},
   "outputs": [
    {
     "data": {
      "image/png": "[encoded data removed]",
      "text/plain": [
       "<Figure size 432x288 with 1 Axes>"
      ]
     },
     "metadata": {
      "needs_background": "light"
     },
     "output_type": "display_data"
    }
   ],
   "source": [
    "tree.plot_tree(tree_model)\n",
    "plt.show()"
   ]
  },
  {
   "cell_type": "markdown",
   "id": "2995ee95",
   "metadata": {},
   "source": [
    "Predict the test dataset"
   ]
  },
  {
   "cell_type": "code",
   "execution_count": 18,
   "id": "2c58012f",
   "metadata": {},
   "outputs": [
    {
     "name": "stdout",
     "output_type": "stream",
     "text": [
      "              precision    recall  f1-score   support\n",
      "\n",
      "           0       0.94      0.93      0.93        54\n",
      "           1       0.88      0.76      0.82        55\n",
      "           2       0.87      0.91      0.89        53\n",
      "           3       0.89      0.91      0.90        55\n",
      "           4       0.80      0.81      0.81        54\n",
      "           5       0.84      0.85      0.85        55\n",
      "           6       0.94      0.94      0.94        54\n",
      "           7       0.88      0.91      0.89        54\n",
      "           8       0.81      0.85      0.83        52\n",
      "           9       0.94      0.93      0.93        54\n",
      "\n",
      "    accuracy                           0.88       540\n",
      "   macro avg       0.88      0.88      0.88       540\n",
      "weighted avg       0.88      0.88      0.88       540\n",
      "\n",
      "Accuracy: 0.88\n",
      "MSE: 1.84\n"
     ]
    }
   ],
   "source": [
    "yp_td = tree_model.predict(X_test)\n",
    "print(classification_report(y_test, yp_td))\n",
    "print('Accuracy: %.2f' % accuracy_score(y_test, yp_td))\n",
    "print('MSE: %.2f' % mean_squared_error(y_test, yp_td))"
   ]
  },
  {
   "cell_type": "markdown",
   "id": "72af4004",
   "metadata": {},
   "source": [
    "## Letter recognition dataset"
   ]
  },
  {
   "cell_type": "code",
   "execution_count": 19,
   "id": "60d84905",
   "metadata": {},
   "outputs": [],
   "source": [
    "url='https://archive.ics.uci.edu/ml/machine-learning-databases/letter-recognition/letter-recognition.data'\n",
    "data = pd.read_csv(url, header=None)\n",
    "X1 = data.iloc[:, 1:]\n",
    "y1 = data.iloc[:,0]"
   ]
  },
  {
   "cell_type": "code",
   "execution_count": 20,
   "id": "b8443c8b",
   "metadata": {},
   "outputs": [],
   "source": [
    "# Split data (Usually 30% of data are allocated for test)\n",
    "X1_train, X1_test, y1_train, y1_test = train_test_split(X1, y1, test_size=0.3, random_state=1, stratify=y1)\n",
    "# Standardize data\n",
    "sc = StandardScaler()\n",
    "# Compute the mean and standard deviation of data\n",
    "sc.fit(X1_train)\n",
    "# Perform standardization\n",
    "X1_train_std = sc.transform(X1_train)\n",
    "X1_test_std = sc.transform(X1_test)"
   ]
  },
  {
   "cell_type": "markdown",
   "id": "bdc0b673",
   "metadata": {},
   "source": [
    "## Perceptron"
   ]
  },
  {
   "cell_type": "code",
   "execution_count": 21,
   "id": "a45428d6",
   "metadata": {
    "scrolled": false
   },
   "outputs": [
    {
     "name": "stdout",
     "output_type": "stream",
     "text": [
      " Running time: 0.12261199951171875 seconds \n",
      "              precision    recall  f1-score   support\n",
      "\n",
      "           A       0.99      0.80      0.89       237\n",
      "           B       0.35      0.43      0.39       230\n",
      "           C       0.84      0.49      0.62       221\n",
      "           D       0.53      0.50      0.51       241\n",
      "           E       0.34      0.25      0.29       230\n",
      "           F       0.59      0.25      0.35       233\n",
      "           G       0.15      0.59      0.24       232\n",
      "           H       0.13      0.19      0.15       220\n",
      "           I       0.59      0.79      0.68       226\n",
      "           J       0.81      0.39      0.53       224\n",
      "           K       0.21      0.38      0.27       222\n",
      "           L       0.89      0.22      0.35       228\n",
      "           M       0.69      0.85      0.76       238\n",
      "           N       0.57      0.38      0.45       235\n",
      "           O       0.22      0.35      0.27       226\n",
      "           P       0.81      0.62      0.70       241\n",
      "           Q       0.70      0.26      0.38       235\n",
      "           R       0.49      0.44      0.46       227\n",
      "           S       0.35      0.38      0.37       224\n",
      "           T       0.87      0.41      0.55       239\n",
      "           U       0.74      0.71      0.73       244\n",
      "           V       0.76      0.53      0.62       229\n",
      "           W       0.97      0.50      0.66       226\n",
      "           X       0.61      0.31      0.41       236\n",
      "           Y       0.48      0.67      0.56       236\n",
      "           Z       0.72      0.65      0.68       220\n",
      "\n",
      "    accuracy                           0.48      6000\n",
      "   macro avg       0.59      0.48      0.50      6000\n",
      "weighted avg       0.59      0.48      0.50      6000\n",
      "\n",
      "Accuracy: 0.48\n"
     ]
    }
   ],
   "source": [
    "start_time = time.time()\n",
    "ppn = Perceptron(max_iter=100, eta0=0.001, random_state=1)\n",
    "ppn.fit(X1_train_std, y1_train)\n",
    "print(\" Running time: %s seconds \" % (time.time() - start_time))\n",
    "# Predict the test dataset\n",
    "yp_p = ppn.predict(X1_test_std)\n",
    "print(classification_report(y1_test, yp_p))\n",
    "print('Accuracy: %.2f' % accuracy_score(y1_test, yp_p))"
   ]
  },
  {
   "cell_type": "markdown",
   "id": "964dad92",
   "metadata": {},
   "source": [
    "## SVM"
   ]
  },
  {
   "cell_type": "code",
   "execution_count": 22,
   "id": "e048d7a2",
   "metadata": {},
   "outputs": [
    {
     "name": "stdout",
     "output_type": "stream",
     "text": [
      " Running time: 2.0313639640808105 seconds \n",
      "              precision    recall  f1-score   support\n",
      "\n",
      "           A       0.95      0.95      0.95       237\n",
      "           B       0.87      0.93      0.90       230\n",
      "           C       0.93      0.90      0.92       221\n",
      "           D       0.82      0.94      0.87       241\n",
      "           E       0.88      0.89      0.89       230\n",
      "           F       0.88      0.92      0.90       233\n",
      "           G       0.83      0.88      0.85       232\n",
      "           H       0.88      0.77      0.82       220\n",
      "           I       0.95      0.92      0.93       226\n",
      "           J       0.92      0.91      0.92       224\n",
      "           K       0.91      0.84      0.87       222\n",
      "           L       0.99      0.89      0.94       228\n",
      "           M       0.94      0.95      0.94       238\n",
      "           N       0.94      0.93      0.94       235\n",
      "           O       0.89      0.89      0.89       226\n",
      "           P       0.98      0.91      0.94       241\n",
      "           Q       0.93      0.91      0.92       235\n",
      "           R       0.81      0.93      0.86       227\n",
      "           S       0.90      0.92      0.91       224\n",
      "           T       0.97      0.93      0.95       239\n",
      "           U       0.96      0.95      0.95       244\n",
      "           V       0.97      0.94      0.96       229\n",
      "           W       0.93      0.96      0.94       226\n",
      "           X       0.91      0.92      0.92       236\n",
      "           Y       0.96      0.98      0.97       236\n",
      "           Z       0.96      0.92      0.94       220\n",
      "\n",
      "    accuracy                           0.92      6000\n",
      "   macro avg       0.92      0.91      0.92      6000\n",
      "weighted avg       0.92      0.92      0.92      6000\n",
      "\n",
      "Accuracy: 0.92\n"
     ]
    }
   ],
   "source": [
    "start_time = time.time()\n",
    "svm_n = SVC(kernel='rbf', C=10, gamma=0.01, random_state=1)\n",
    "svm_n.fit(X1_train_std, y1_train)\n",
    "print(\" Running time: %s seconds \" % (time.time() - start_time))\n",
    "# Predict the test dataset\n",
    "yp_svm_n = svm_n.predict(X1_test_std)\n",
    "print(classification_report(y1_test, yp_svm_n))\n",
    "print('Accuracy: %.2f' % accuracy_score(y1_test, yp_svm_n))"
   ]
  },
  {
   "cell_type": "markdown",
   "id": "1dc2bbfb",
   "metadata": {},
   "source": [
    "## DecisionTree"
   ]
  },
  {
   "cell_type": "code",
   "execution_count": 23,
   "id": "ba623a26",
   "metadata": {
    "scrolled": false
   },
   "outputs": [
    {
     "name": "stdout",
     "output_type": "stream",
     "text": [
      " Running time: 0.08654141426086426 seconds \n",
      "              precision    recall  f1-score   support\n",
      "\n",
      "           A       0.92      0.94      0.93       237\n",
      "           B       0.79      0.86      0.82       230\n",
      "           C       0.91      0.90      0.90       221\n",
      "           D       0.80      0.82      0.81       241\n",
      "           E       0.84      0.85      0.84       230\n",
      "           F       0.84      0.84      0.84       233\n",
      "           G       0.82      0.86      0.84       232\n",
      "           H       0.80      0.80      0.80       220\n",
      "           I       0.90      0.92      0.91       226\n",
      "           J       0.90      0.88      0.89       224\n",
      "           K       0.85      0.77      0.81       222\n",
      "           L       0.91      0.93      0.92       228\n",
      "           M       0.94      0.93      0.94       238\n",
      "           N       0.92      0.89      0.91       235\n",
      "           O       0.81      0.84      0.82       226\n",
      "           P       0.87      0.86      0.86       241\n",
      "           Q       0.87      0.80      0.83       235\n",
      "           R       0.85      0.85      0.85       227\n",
      "           S       0.82      0.82      0.82       224\n",
      "           T       0.87      0.92      0.89       239\n",
      "           U       0.88      0.90      0.89       244\n",
      "           V       0.92      0.91      0.92       229\n",
      "           W       0.94      0.94      0.94       226\n",
      "           X       0.88      0.86      0.87       236\n",
      "           Y       0.91      0.89      0.90       236\n",
      "           Z       0.90      0.88      0.89       220\n",
      "\n",
      "    accuracy                           0.87      6000\n",
      "   macro avg       0.87      0.87      0.87      6000\n",
      "weighted avg       0.87      0.87      0.87      6000\n",
      "\n",
      "Accuracy: 0.87\n"
     ]
    }
   ],
   "source": [
    "start_time = time.time()\n",
    "tree_model2 = DecisionTreeClassifier(criterion='entropy', max_depth=20, random_state=1)\n",
    "tree_model2.fit(X1_train, y1_train)\n",
    "print(\" Running time: %s seconds \" % (time.time() - start_time))\n",
    "# Predict the test dataset\n",
    "yp_td = tree_model2.predict(X1_test)\n",
    "print(classification_report(y1_test, yp_td))\n",
    "print('Accuracy: %.2f' % accuracy_score(y1_test, yp_td))"
   ]
  },
  {
   "cell_type": "code",
   "execution_count": 25,
   "id": "b29850a8",
   "metadata": {},
   "outputs": [
    {
     "data": {
      "image/png": "[encoded data removed]",
      "text/plain": [
       "<Figure size 432x288 with 1 Axes>"
      ]
     },
     "metadata": {
      "needs_background": "light"
     },
     "output_type": "display_data"
    }
   ],
   "source": [
    "# Plot the decision tree model\n",
    "tree.plot_tree(tree_model2)\n",
    "plt.show()"
   ]
  },
  {
   "cell_type": "markdown",
   "id": "3fac26e3",
   "metadata": {},
   "source": [
    "* The reported accuracy and MSE is the avarage accuracy and MSE on the test data.\n",
    "\n",
    "For \"digit dataset\":\n",
    "\n",
    "- The running time of perceptron is 0.018, the accuracy is 0.94 and the MSE is 1.44.\n",
    "- Here, I applied both the linear and nonlinear model of SVM on this dataset and both of them has accuracy of 0.98. However, the MSE of of linear SVM is 0.57 while for nonlinear SVM is 0.28. The linear SVM is faster than nonlinear SVM. The running time of linear SVM is 0.034 while for nonlinear SVM is about 0.050.\n",
    "- The runniing time of decision tree classifier is 0.022 and the accuracy is 0.88 and the MSE is 1.84.\n",
    "\n",
    "For \"digit dataset\":\n",
    "\n",
    "- The running time of perceptron is about 0.11, the accuracy is 0.48 and the MSE is 1.44.\n",
    "- Here, I applied the nonlinear model of SVM on this dataset the running time is 1.84 and the accuracy is 0.92. \n",
    "- The runniing time of decision tree classifier is 0.022 and the accuracy is 0.88 and the MSE is 1.84.\n",
    "    \n",
    "Based on the above report, dicision tree has the lowest running time so it is so fast. While the SVM is accurate one with providing high accuracy and less error but at the cost of having more running time compared to others.\n",
    "\n",
    "Here, I use \"classifiaction_report\" command to indicate the precision, recall and f1-score of each class of data in test data."
   ]
  },
  {
   "cell_type": "markdown",
   "id": "c8788490",
   "metadata": {},
   "source": [
    "## Pre-prune or Post-prune the tree."
   ]
  },
  {
   "cell_type": "markdown",
   "id": "5cf1e72a",
   "metadata": {},
   "source": [
    "Pre pruning technique:\n",
    "\n",
    "Pre-pruning means to stop the tree before completing the classification of the training set or stoping the growth of decision tree on an early stage. To reduce memory consumption, the complexity and size of the trees should be controlled.\n",
    "For this purpose we can limit the growth of trees by setting constrains on some of its parameters, such as max_depth and min_samples_leaf. The defualt value of these parameters leads to fully grown and unpruned trees which is very large.\n",
    "\n",
    "Based on code:\n",
    "\n",
    "    max_depth : int, default=None\n",
    "        The maximum depth of the tree. If None, then nodes are expanded until all leaves are pure or until all leaves contain less than min_samples_split samples.\n",
    "        \n",
    "    min_samples_leaf : int or float, default=1\n",
    "        The minimum number of samples required to be at a leaf node.\n",
    "        A split point at any depth will only be considered if it leaves at least ``min_samples_leaf`` training samples in each of the left and right branches.  This may have the effect of smoothing the model, especially in regression.\n",
    "        \n",
    "        - If int, then consider `min_samples_leaf` as the minimum number.\n",
    "        - If float, then `min_samples_leaf` is a fraction `ceil(min_samples_leaf * n_samples)` are the minimum number of samples for each node.\n",
    "\n"
   ]
  },
  {
   "cell_type": "markdown",
   "id": "ed946a8e",
   "metadata": {},
   "source": [
    "The part of source code of DecisionTreeClassifier whcih is realted to pre-prune process:"
   ]
  },
  {
   "cell_type": "code",
   "execution_count": null,
   "id": "8d603930",
   "metadata": {},
   "outputs": [],
   "source": [
    "    def get_depth(self):\n",
    "        \"\"\"Return the depth of the decision tree.\n",
    "        The depth of a tree is the maximum distance between the root\n",
    "        and any leaf.\n",
    "        Returns\n",
    "        -------\n",
    "        self.tree_.max_depth : int\n",
    "            The maximum depth of the tree.\n",
    "        \"\"\"\n",
    "        check_is_fitted(self)\n",
    "        return self.tree_.max_depth"
   ]
  },
  {
   "cell_type": "code",
   "execution_count": null,
   "id": "599694ed",
   "metadata": {},
   "outputs": [],
   "source": [
    " # Check parameters\n",
    "        max_depth = np.iinfo(np.int32).max if self.max_depth is None else self.max_depth\n",
    "        max_leaf_nodes = -1 if self.max_leaf_nodes is None else self.max_leaf_nodes\n",
    "\n",
    "        if isinstance(self.min_samples_leaf, numbers.Integral):\n",
    "            if not 1 <= self.min_samples_leaf:\n",
    "                raise ValueError(\n",
    "                    \"min_samples_leaf must be at least 1 or in (0, 0.5], got %s\"\n",
    "                    % self.min_samples_leaf\n",
    "                )\n",
    "            min_samples_leaf = self.min_samples_leaf\n",
    "        else:  # float\n",
    "            if not 0.0 < self.min_samples_leaf <= 0.5:\n",
    "                raise ValueError(\n",
    "                    \"min_samples_leaf must be at least 1 or in (0, 0.5], got %s\"\n",
    "                    % self.min_samples_leaf\n",
    "                )\n",
    "            min_samples_leaf = int(ceil(self.min_samples_leaf * n_samples))"
   ]
  },
  {
   "cell_type": "markdown",
   "id": "d14ef2fb",
   "metadata": {},
   "source": [
    "Post pruning technique:\n",
    "\n",
    "ccp_alpha is a paprameter which is used to minimizing the Cost-Complexity Pruning.  The defualt value of this parameters do not perform any pruning. We can compute the optimal value of this parameter and set this parameter to creat a tree model with high accuracy and optimal structure.\n",
    "\n",
    "For calculating optimal value of ccp_alpha, we can utilize the function of cost_complexity_pruning_path which returns the effective alphas and the corresponding total leaf impurities at each step of the pruning process. Then we can use the list of this ccp_alpha and calculte their scores to gind the best tree model for our dataset. \n"
   ]
  },
  {
   "cell_type": "markdown",
   "id": "4497c9d5",
   "metadata": {},
   "source": [
    "    ccp_alpha : non-negative float, default=0.0\n",
    "        Complexity parameter used for Minimal Cost-Complexity Pruning. The\n",
    "        subtree with the largest cost complexity that is smaller than\n",
    "        ``ccp_alpha`` will be chosen. By default, no pruning is performed. See\n",
    "        :ref:`minimal_cost_complexity_pruning` for details."
   ]
  },
  {
   "cell_type": "markdown",
   "id": "f5861b72",
   "metadata": {},
   "source": [
    "The part of source code of DecisionTreeClassifier whcih is realted to post-prune process:"
   ]
  },
  {
   "cell_type": "code",
   "execution_count": null,
   "id": "141201db",
   "metadata": {},
   "outputs": [],
   "source": [
    "def _prune_tree(self):\n",
    "        \"\"\"Prune tree using Minimal Cost-Complexity Pruning.\"\"\"\n",
    "        check_is_fitted(self)\n",
    "\n",
    "        if self.ccp_alpha < 0.0:\n",
    "            raise ValueError(\"ccp_alpha must be greater than or equal to 0\")\n",
    "\n",
    "        if self.ccp_alpha == 0.0:\n",
    "            return\n",
    "\n",
    "        # build pruned tree\n",
    "        if is_classifier(self):\n",
    "            n_classes = np.atleast_1d(self.n_classes_)\n",
    "            pruned_tree = Tree(self.n_features_in_, n_classes, self.n_outputs_)\n",
    "        else:\n",
    "            pruned_tree = Tree(\n",
    "                self.n_features_in_,\n",
    "                # TODO: the tree shouldn't need this param\n",
    "                np.array([1] * self.n_outputs_, dtype=np.intp),\n",
    "                self.n_outputs_,\n",
    "            )\n",
    "        _build_pruned_tree_ccp(pruned_tree, self.tree_, self.ccp_alpha)\n",
    "\n",
    "        self.tree_ = pruned_tree\n",
    "\n",
    "    def cost_complexity_pruning_path(self, X, y, sample_weight=None):\n",
    "        \"\"\"Compute the pruning path during Minimal Cost-Complexity Pruning.\n",
    "        See :ref:`minimal_cost_complexity_pruning` for details on the pruning\n",
    "        process.\n",
    "        Parameters\n",
    "        ----------\n",
    "        X : {array-like, sparse matrix} of shape (n_samples, n_features)\n",
    "            The training input samples. Internally, it will be converted to\n",
    "            ``dtype=np.float32`` and if a sparse matrix is provided\n",
    "            to a sparse ``csc_matrix``.\n",
    "        y : array-like of shape (n_samples,) or (n_samples, n_outputs)\n",
    "            The target values (class labels) as integers or strings.\n",
    "        sample_weight : array-like of shape (n_samples,), default=None\n",
    "            Sample weights. If None, then samples are equally weighted. Splits\n",
    "            that would create child nodes with net zero or negative weight are\n",
    "            ignored while searching for a split in each node. Splits are also\n",
    "            ignored if they would result in any single class carrying a\n",
    "            negative weight in either child node.\n",
    "        Returns\n",
    "        -------\n",
    "        ccp_path : :class:`~sklearn.utils.Bunch`\n",
    "            Dictionary-like object, with the following attributes.\n",
    "            ccp_alphas : ndarray\n",
    "                Effective alphas of subtree during pruning.\n",
    "            impurities : ndarray\n",
    "                Sum of the impurities of the subtree leaves for the\n",
    "                corresponding alpha value in ``ccp_alphas``.\n",
    "        \"\"\"\n",
    "        est = clone(self).set_params(ccp_alpha=0.0)\n",
    "        est.fit(X, y, sample_weight=sample_weight)\n",
    "        return Bunch(**ccp_pruning_path(est.tree_))"
   ]
  }
 ],
 "metadata": {
  "kernelspec": {
   "display_name": "Python 3 (ipykernel)",
   "language": "python",
   "name": "python3"
  },
  "language_info": {
   "codemirror_mode": {
    "name": "ipython",
    "version": 3
   },
   "file_extension": ".py",
   "mimetype": "text/x-python",
   "name": "python",
   "nbconvert_exporter": "python",
   "pygments_lexer": "ipython3",
   "version": "3.9.7"
  }
 },
 "nbformat": 4,
 "nbformat_minor": 5
}
